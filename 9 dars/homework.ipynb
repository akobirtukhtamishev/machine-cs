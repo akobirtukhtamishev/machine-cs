{
 "cells": [
  {
   "cell_type": "code",
   "execution_count": 1,
   "id": "86537bf4",
   "metadata": {
    "ExecuteTime": {
     "end_time": "2025-07-12T08:50:53.295725Z",
     "start_time": "2025-07-12T08:50:53.291310Z"
    }
   },
   "outputs": [],
   "source": [
    "import pandas as pd"
   ]
  },
  {
   "cell_type": "code",
   "execution_count": 2,
   "id": "c52bc04a",
   "metadata": {
    "ExecuteTime": {
     "end_time": "2025-07-12T08:50:56.109063Z",
     "start_time": "2025-07-12T08:50:56.097931Z"
    }
   },
   "outputs": [],
   "source": [
    "df=pd.read_csv('student_info.csv')"
   ]
  },
  {
   "cell_type": "code",
   "execution_count": 3,
   "id": "68896ab0",
   "metadata": {
    "ExecuteTime": {
     "end_time": "2025-07-12T08:50:59.488581Z",
     "start_time": "2025-07-12T08:50:59.477820Z"
    }
   },
   "outputs": [
    {
     "name": "stderr",
     "output_type": "stream",
     "text": [
      "C:\\Users\\akobi\\AppData\\Local\\Temp\\ipykernel_10412\\2187856909.py:4: FutureWarning: A value is trying to be set on a copy of a DataFrame or Series through chained assignment using an inplace method.\n",
      "The behavior will change in pandas 3.0. This inplace method will never work because the intermediate object on which we are setting values always behaves as a copy.\n",
      "\n",
      "For example, when doing 'df[col].method(value, inplace=True)', try using 'df.method({col: value}, inplace=True)' or df[col] = df[col].method(value) instead, to perform the operation inplace on the original object.\n",
      "\n",
      "\n",
      "  df[col].fillna(df[col].mode()[0],inplace=True)\n",
      "C:\\Users\\akobi\\AppData\\Local\\Temp\\ipykernel_10412\\2187856909.py:6: FutureWarning: A value is trying to be set on a copy of a DataFrame or Series through chained assignment using an inplace method.\n",
      "The behavior will change in pandas 3.0. This inplace method will never work because the intermediate object on which we are setting values always behaves as a copy.\n",
      "\n",
      "For example, when doing 'df[col].method(value, inplace=True)', try using 'df.method({col: value}, inplace=True)' or df[col] = df[col].method(value) instead, to perform the operation inplace on the original object.\n",
      "\n",
      "\n",
      "  df[col].fillna(df[col].mean(),inplace=True)\n"
     ]
    }
   ],
   "source": [
    "for col in df.columns:\n",
    "    if df[col].isnull().any():\n",
    "        if df[col].dtype=='object':\n",
    "            df[col].fillna(df[col].mode()[0],inplace=True)\n",
    "        else:\n",
    "            df[col].fillna(df[col].mean(),inplace=True)"
   ]
  },
  {
   "cell_type": "code",
   "execution_count": 4,
   "id": "abec185f",
   "metadata": {},
   "outputs": [
    {
     "name": "stdout",
     "output_type": "stream",
     "text": [
      "<class 'pandas.core.frame.DataFrame'>\n",
      "RangeIndex: 1000 entries, 0 to 999\n",
      "Data columns (total 15 columns):\n",
      " #   Column            Non-Null Count  Dtype  \n",
      "---  ------            --------------  -----  \n",
      " 0   student_id        1000 non-null   object \n",
      " 1   name              1000 non-null   object \n",
      " 2   gender            1000 non-null   object \n",
      " 3   age               1000 non-null   int64  \n",
      " 4   grade_level       1000 non-null   float64\n",
      " 5   math_score        1000 non-null   int64  \n",
      " 6   reading_score     1000 non-null   float64\n",
      " 7   writing_score     1000 non-null   float64\n",
      " 8   attendance_rate   1000 non-null   float64\n",
      " 9   parent_education  1000 non-null   object \n",
      " 10  study_hours       1000 non-null   float64\n",
      " 11  internet_access   1000 non-null   object \n",
      " 12  lunch_type        1000 non-null   object \n",
      " 13  extra_activities  1000 non-null   object \n",
      " 14  final_result      1000 non-null   object \n",
      "dtypes: float64(5), int64(2), object(8)\n",
      "memory usage: 117.3+ KB\n"
     ]
    }
   ],
   "source": [
    "df.info()"
   ]
  },
  {
   "cell_type": "code",
   "execution_count": 5,
   "id": "647f1311",
   "metadata": {},
   "outputs": [
    {
     "data": {
      "text/html": [
       "<div>\n",
       "<style scoped>\n",
       "    .dataframe tbody tr th:only-of-type {\n",
       "        vertical-align: middle;\n",
       "    }\n",
       "\n",
       "    .dataframe tbody tr th {\n",
       "        vertical-align: top;\n",
       "    }\n",
       "\n",
       "    .dataframe thead th {\n",
       "        text-align: right;\n",
       "    }\n",
       "</style>\n",
       "<table border=\"1\" class=\"dataframe\">\n",
       "  <thead>\n",
       "    <tr style=\"text-align: right;\">\n",
       "      <th></th>\n",
       "      <th>student_id</th>\n",
       "      <th>name</th>\n",
       "      <th>gender</th>\n",
       "      <th>age</th>\n",
       "      <th>grade_level</th>\n",
       "      <th>math_score</th>\n",
       "      <th>reading_score</th>\n",
       "      <th>writing_score</th>\n",
       "      <th>attendance_rate</th>\n",
       "      <th>parent_education</th>\n",
       "      <th>study_hours</th>\n",
       "      <th>internet_access</th>\n",
       "      <th>lunch_type</th>\n",
       "      <th>extra_activities</th>\n",
       "      <th>final_result</th>\n",
       "    </tr>\n",
       "  </thead>\n",
       "  <tbody>\n",
       "    <tr>\n",
       "      <th>0</th>\n",
       "      <td>S1</td>\n",
       "      <td>Student_1</td>\n",
       "      <td>Other</td>\n",
       "      <td>17</td>\n",
       "      <td>10.000000</td>\n",
       "      <td>74</td>\n",
       "      <td>61.0</td>\n",
       "      <td>90.0</td>\n",
       "      <td>94.660002</td>\n",
       "      <td>Master's</td>\n",
       "      <td>4.120192</td>\n",
       "      <td>Yes</td>\n",
       "      <td>Free or reduced</td>\n",
       "      <td>Yes</td>\n",
       "      <td>Fail</td>\n",
       "    </tr>\n",
       "    <tr>\n",
       "      <th>1</th>\n",
       "      <td>S2</td>\n",
       "      <td>Student_2</td>\n",
       "      <td>Male</td>\n",
       "      <td>17</td>\n",
       "      <td>10.468876</td>\n",
       "      <td>99</td>\n",
       "      <td>70.0</td>\n",
       "      <td>91.0</td>\n",
       "      <td>93.173227</td>\n",
       "      <td>Bachelor's</td>\n",
       "      <td>2.886505</td>\n",
       "      <td>No</td>\n",
       "      <td>Free or reduced</td>\n",
       "      <td>No</td>\n",
       "      <td>Pass</td>\n",
       "    </tr>\n",
       "    <tr>\n",
       "      <th>2</th>\n",
       "      <td>S3</td>\n",
       "      <td>Student_3</td>\n",
       "      <td>Other</td>\n",
       "      <td>17</td>\n",
       "      <td>9.000000</td>\n",
       "      <td>59</td>\n",
       "      <td>60.0</td>\n",
       "      <td>99.0</td>\n",
       "      <td>98.631098</td>\n",
       "      <td>PhD</td>\n",
       "      <td>1.909926</td>\n",
       "      <td>No</td>\n",
       "      <td>Free or reduced</td>\n",
       "      <td>No</td>\n",
       "      <td>Fail</td>\n",
       "    </tr>\n",
       "    <tr>\n",
       "      <th>3</th>\n",
       "      <td>S4</td>\n",
       "      <td>Student_4</td>\n",
       "      <td>Other</td>\n",
       "      <td>17</td>\n",
       "      <td>12.000000</td>\n",
       "      <td>70</td>\n",
       "      <td>88.0</td>\n",
       "      <td>69.0</td>\n",
       "      <td>96.419620</td>\n",
       "      <td>PhD</td>\n",
       "      <td>1.664740</td>\n",
       "      <td>No</td>\n",
       "      <td>Standard</td>\n",
       "      <td>No</td>\n",
       "      <td>Pass</td>\n",
       "    </tr>\n",
       "    <tr>\n",
       "      <th>4</th>\n",
       "      <td>S5</td>\n",
       "      <td>Student_5</td>\n",
       "      <td>Male</td>\n",
       "      <td>15</td>\n",
       "      <td>9.000000</td>\n",
       "      <td>85</td>\n",
       "      <td>77.0</td>\n",
       "      <td>94.0</td>\n",
       "      <td>91.332105</td>\n",
       "      <td>PhD</td>\n",
       "      <td>2.330918</td>\n",
       "      <td>Yes</td>\n",
       "      <td>Free or reduced</td>\n",
       "      <td>No</td>\n",
       "      <td>Pass</td>\n",
       "    </tr>\n",
       "  </tbody>\n",
       "</table>\n",
       "</div>"
      ],
      "text/plain": [
       "  student_id       name gender  age  grade_level  math_score  reading_score  \\\n",
       "0         S1  Student_1  Other   17    10.000000          74           61.0   \n",
       "1         S2  Student_2   Male   17    10.468876          99           70.0   \n",
       "2         S3  Student_3  Other   17     9.000000          59           60.0   \n",
       "3         S4  Student_4  Other   17    12.000000          70           88.0   \n",
       "4         S5  Student_5   Male   15     9.000000          85           77.0   \n",
       "\n",
       "   writing_score  attendance_rate parent_education  study_hours  \\\n",
       "0           90.0        94.660002         Master's     4.120192   \n",
       "1           91.0        93.173227       Bachelor's     2.886505   \n",
       "2           99.0        98.631098              PhD     1.909926   \n",
       "3           69.0        96.419620              PhD     1.664740   \n",
       "4           94.0        91.332105              PhD     2.330918   \n",
       "\n",
       "  internet_access       lunch_type extra_activities final_result  \n",
       "0             Yes  Free or reduced              Yes         Fail  \n",
       "1              No  Free or reduced               No         Pass  \n",
       "2              No  Free or reduced               No         Fail  \n",
       "3              No         Standard               No         Pass  \n",
       "4             Yes  Free or reduced               No         Pass  "
      ]
     },
     "execution_count": 5,
     "metadata": {},
     "output_type": "execute_result"
    }
   ],
   "source": [
    "df.head()"
   ]
  },
  {
   "cell_type": "code",
   "execution_count": 6,
   "id": "624d9e45",
   "metadata": {},
   "outputs": [
    {
     "name": "stdout",
     "output_type": "stream",
     "text": [
      "<class 'pandas.core.frame.DataFrame'>\n",
      "RangeIndex: 1000 entries, 0 to 999\n",
      "Data columns (total 15 columns):\n",
      " #   Column            Non-Null Count  Dtype  \n",
      "---  ------            --------------  -----  \n",
      " 0   student_id        1000 non-null   object \n",
      " 1   name              1000 non-null   object \n",
      " 2   gender            1000 non-null   object \n",
      " 3   age               1000 non-null   int64  \n",
      " 4   grade_level       1000 non-null   float64\n",
      " 5   math_score        1000 non-null   int64  \n",
      " 6   reading_score     1000 non-null   float64\n",
      " 7   writing_score     1000 non-null   float64\n",
      " 8   attendance_rate   1000 non-null   float64\n",
      " 9   parent_education  1000 non-null   object \n",
      " 10  study_hours       1000 non-null   float64\n",
      " 11  internet_access   1000 non-null   object \n",
      " 12  lunch_type        1000 non-null   object \n",
      " 13  extra_activities  1000 non-null   object \n",
      " 14  final_result      1000 non-null   object \n",
      "dtypes: float64(5), int64(2), object(8)\n",
      "memory usage: 117.3+ KB\n"
     ]
    }
   ],
   "source": [
    "df.info()"
   ]
  },
  {
   "cell_type": "code",
   "execution_count": 7,
   "id": "b5381235",
   "metadata": {},
   "outputs": [
    {
     "data": {
      "text/plain": [
       "1000"
      ]
     },
     "execution_count": 7,
     "metadata": {},
     "output_type": "execute_result"
    }
   ],
   "source": [
    "df['name'].nunique()"
   ]
  },
  {
   "cell_type": "markdown",
   "id": "a9385921",
   "metadata": {},
   "source": [
    "LabelEncoding"
   ]
  },
  {
   "cell_type": "code",
   "execution_count": 8,
   "id": "c20792d7",
   "metadata": {
    "ExecuteTime": {
     "end_time": "2025-07-12T08:49:47.120043Z",
     "start_time": "2025-07-12T08:49:47.115728Z"
    }
   },
   "outputs": [],
   "source": [
    "from sklearn.preprocessing import LabelEncoder"
   ]
  },
  {
   "cell_type": "code",
   "execution_count": 9,
   "id": "317580af",
   "metadata": {
    "ExecuteTime": {
     "end_time": "2025-07-12T08:50:02.112114Z",
     "start_time": "2025-07-12T08:50:02.107551Z"
    }
   },
   "outputs": [],
   "source": [
    "encoder=LabelEncoder()"
   ]
  },
  {
   "cell_type": "code",
   "execution_count": 10,
   "id": "e06cf67f36978ef2",
   "metadata": {
    "ExecuteTime": {
     "end_time": "2025-07-12T08:50:46.147582Z",
     "start_time": "2025-07-12T08:50:45.655014Z"
    }
   },
   "outputs": [],
   "source": [
    "df['name']=encoder.fit_transform(df['name'])"
   ]
  },
  {
   "cell_type": "code",
   "execution_count": 11,
   "id": "9264ef8021c5d925",
   "metadata": {},
   "outputs": [
    {
     "name": "stdout",
     "output_type": "stream",
     "text": [
      "<class 'pandas.core.frame.DataFrame'>\n",
      "RangeIndex: 1000 entries, 0 to 999\n",
      "Data columns (total 15 columns):\n",
      " #   Column            Non-Null Count  Dtype  \n",
      "---  ------            --------------  -----  \n",
      " 0   student_id        1000 non-null   object \n",
      " 1   name              1000 non-null   int64  \n",
      " 2   gender            1000 non-null   object \n",
      " 3   age               1000 non-null   int64  \n",
      " 4   grade_level       1000 non-null   float64\n",
      " 5   math_score        1000 non-null   int64  \n",
      " 6   reading_score     1000 non-null   float64\n",
      " 7   writing_score     1000 non-null   float64\n",
      " 8   attendance_rate   1000 non-null   float64\n",
      " 9   parent_education  1000 non-null   object \n",
      " 10  study_hours       1000 non-null   float64\n",
      " 11  internet_access   1000 non-null   object \n",
      " 12  lunch_type        1000 non-null   object \n",
      " 13  extra_activities  1000 non-null   object \n",
      " 14  final_result      1000 non-null   object \n",
      "dtypes: float64(5), int64(3), object(7)\n",
      "memory usage: 117.3+ KB\n"
     ]
    }
   ],
   "source": [
    "df.info()"
   ]
  },
  {
   "cell_type": "code",
   "execution_count": 12,
   "id": "99cd64c6",
   "metadata": {},
   "outputs": [
    {
     "data": {
      "text/html": [
       "<div>\n",
       "<style scoped>\n",
       "    .dataframe tbody tr th:only-of-type {\n",
       "        vertical-align: middle;\n",
       "    }\n",
       "\n",
       "    .dataframe tbody tr th {\n",
       "        vertical-align: top;\n",
       "    }\n",
       "\n",
       "    .dataframe thead th {\n",
       "        text-align: right;\n",
       "    }\n",
       "</style>\n",
       "<table border=\"1\" class=\"dataframe\">\n",
       "  <thead>\n",
       "    <tr style=\"text-align: right;\">\n",
       "      <th></th>\n",
       "      <th>student_id</th>\n",
       "      <th>name</th>\n",
       "      <th>gender</th>\n",
       "      <th>age</th>\n",
       "      <th>grade_level</th>\n",
       "      <th>math_score</th>\n",
       "      <th>reading_score</th>\n",
       "      <th>writing_score</th>\n",
       "      <th>attendance_rate</th>\n",
       "      <th>parent_education</th>\n",
       "      <th>study_hours</th>\n",
       "      <th>internet_access</th>\n",
       "      <th>lunch_type</th>\n",
       "      <th>extra_activities</th>\n",
       "      <th>final_result</th>\n",
       "    </tr>\n",
       "  </thead>\n",
       "  <tbody>\n",
       "    <tr>\n",
       "      <th>0</th>\n",
       "      <td>S1</td>\n",
       "      <td>0</td>\n",
       "      <td>Other</td>\n",
       "      <td>17</td>\n",
       "      <td>10.000000</td>\n",
       "      <td>74</td>\n",
       "      <td>61.0</td>\n",
       "      <td>90.0</td>\n",
       "      <td>94.660002</td>\n",
       "      <td>Master's</td>\n",
       "      <td>4.120192</td>\n",
       "      <td>Yes</td>\n",
       "      <td>Free or reduced</td>\n",
       "      <td>Yes</td>\n",
       "      <td>Fail</td>\n",
       "    </tr>\n",
       "    <tr>\n",
       "      <th>1</th>\n",
       "      <td>S2</td>\n",
       "      <td>112</td>\n",
       "      <td>Male</td>\n",
       "      <td>17</td>\n",
       "      <td>10.468876</td>\n",
       "      <td>99</td>\n",
       "      <td>70.0</td>\n",
       "      <td>91.0</td>\n",
       "      <td>93.173227</td>\n",
       "      <td>Bachelor's</td>\n",
       "      <td>2.886505</td>\n",
       "      <td>No</td>\n",
       "      <td>Free or reduced</td>\n",
       "      <td>No</td>\n",
       "      <td>Pass</td>\n",
       "    </tr>\n",
       "    <tr>\n",
       "      <th>2</th>\n",
       "      <td>S3</td>\n",
       "      <td>223</td>\n",
       "      <td>Other</td>\n",
       "      <td>17</td>\n",
       "      <td>9.000000</td>\n",
       "      <td>59</td>\n",
       "      <td>60.0</td>\n",
       "      <td>99.0</td>\n",
       "      <td>98.631098</td>\n",
       "      <td>PhD</td>\n",
       "      <td>1.909926</td>\n",
       "      <td>No</td>\n",
       "      <td>Free or reduced</td>\n",
       "      <td>No</td>\n",
       "      <td>Fail</td>\n",
       "    </tr>\n",
       "    <tr>\n",
       "      <th>3</th>\n",
       "      <td>S4</td>\n",
       "      <td>334</td>\n",
       "      <td>Other</td>\n",
       "      <td>17</td>\n",
       "      <td>12.000000</td>\n",
       "      <td>70</td>\n",
       "      <td>88.0</td>\n",
       "      <td>69.0</td>\n",
       "      <td>96.419620</td>\n",
       "      <td>PhD</td>\n",
       "      <td>1.664740</td>\n",
       "      <td>No</td>\n",
       "      <td>Standard</td>\n",
       "      <td>No</td>\n",
       "      <td>Pass</td>\n",
       "    </tr>\n",
       "    <tr>\n",
       "      <th>4</th>\n",
       "      <td>S5</td>\n",
       "      <td>445</td>\n",
       "      <td>Male</td>\n",
       "      <td>15</td>\n",
       "      <td>9.000000</td>\n",
       "      <td>85</td>\n",
       "      <td>77.0</td>\n",
       "      <td>94.0</td>\n",
       "      <td>91.332105</td>\n",
       "      <td>PhD</td>\n",
       "      <td>2.330918</td>\n",
       "      <td>Yes</td>\n",
       "      <td>Free or reduced</td>\n",
       "      <td>No</td>\n",
       "      <td>Pass</td>\n",
       "    </tr>\n",
       "  </tbody>\n",
       "</table>\n",
       "</div>"
      ],
      "text/plain": [
       "  student_id  name gender  age  grade_level  math_score  reading_score  \\\n",
       "0         S1     0  Other   17    10.000000          74           61.0   \n",
       "1         S2   112   Male   17    10.468876          99           70.0   \n",
       "2         S3   223  Other   17     9.000000          59           60.0   \n",
       "3         S4   334  Other   17    12.000000          70           88.0   \n",
       "4         S5   445   Male   15     9.000000          85           77.0   \n",
       "\n",
       "   writing_score  attendance_rate parent_education  study_hours  \\\n",
       "0           90.0        94.660002         Master's     4.120192   \n",
       "1           91.0        93.173227       Bachelor's     2.886505   \n",
       "2           99.0        98.631098              PhD     1.909926   \n",
       "3           69.0        96.419620              PhD     1.664740   \n",
       "4           94.0        91.332105              PhD     2.330918   \n",
       "\n",
       "  internet_access       lunch_type extra_activities final_result  \n",
       "0             Yes  Free or reduced              Yes         Fail  \n",
       "1              No  Free or reduced               No         Pass  \n",
       "2              No  Free or reduced               No         Fail  \n",
       "3              No         Standard               No         Pass  \n",
       "4             Yes  Free or reduced               No         Pass  "
      ]
     },
     "execution_count": 12,
     "metadata": {},
     "output_type": "execute_result"
    }
   ],
   "source": [
    "df.head()"
   ]
  },
  {
   "cell_type": "markdown",
   "id": "5ac7f667",
   "metadata": {},
   "source": [
    "One Hot encoding"
   ]
  },
  {
   "cell_type": "code",
   "execution_count": 13,
   "id": "ba8ddb25",
   "metadata": {},
   "outputs": [
    {
     "data": {
      "text/plain": [
       "2"
      ]
     },
     "execution_count": 13,
     "metadata": {},
     "output_type": "execute_result"
    }
   ],
   "source": [
    "df['internet_access'].nunique()"
   ]
  },
  {
   "cell_type": "code",
   "execution_count": 14,
   "id": "bd1e54b1",
   "metadata": {},
   "outputs": [],
   "source": [
    "df=pd.get_dummies(df,columns=['internet_access'],prefix='int', dtype=int)"
   ]
  },
  {
   "cell_type": "code",
   "execution_count": 15,
   "id": "0075f580",
   "metadata": {},
   "outputs": [
    {
     "name": "stdout",
     "output_type": "stream",
     "text": [
      "<class 'pandas.core.frame.DataFrame'>\n",
      "RangeIndex: 1000 entries, 0 to 999\n",
      "Data columns (total 16 columns):\n",
      " #   Column            Non-Null Count  Dtype  \n",
      "---  ------            --------------  -----  \n",
      " 0   student_id        1000 non-null   object \n",
      " 1   name              1000 non-null   int64  \n",
      " 2   gender            1000 non-null   object \n",
      " 3   age               1000 non-null   int64  \n",
      " 4   grade_level       1000 non-null   float64\n",
      " 5   math_score        1000 non-null   int64  \n",
      " 6   reading_score     1000 non-null   float64\n",
      " 7   writing_score     1000 non-null   float64\n",
      " 8   attendance_rate   1000 non-null   float64\n",
      " 9   parent_education  1000 non-null   object \n",
      " 10  study_hours       1000 non-null   float64\n",
      " 11  lunch_type        1000 non-null   object \n",
      " 12  extra_activities  1000 non-null   object \n",
      " 13  final_result      1000 non-null   object \n",
      " 14  int_No            1000 non-null   int64  \n",
      " 15  int_Yes           1000 non-null   int64  \n",
      "dtypes: float64(5), int64(5), object(6)\n",
      "memory usage: 125.1+ KB\n"
     ]
    }
   ],
   "source": [
    "df.info()"
   ]
  },
  {
   "cell_type": "code",
   "execution_count": null,
   "id": "5e8b8349",
   "metadata": {},
   "outputs": [],
   "source": []
  },
  {
   "cell_type": "markdown",
   "id": "acd87e19",
   "metadata": {},
   "source": [
    "Frequency Encoding"
   ]
  },
  {
   "cell_type": "code",
   "execution_count": 16,
   "id": "73ab0794",
   "metadata": {},
   "outputs": [
    {
     "name": "stdout",
     "output_type": "stream",
     "text": [
      "<class 'pandas.core.frame.DataFrame'>\n",
      "RangeIndex: 1000 entries, 0 to 999\n",
      "Data columns (total 16 columns):\n",
      " #   Column            Non-Null Count  Dtype  \n",
      "---  ------            --------------  -----  \n",
      " 0   student_id        1000 non-null   object \n",
      " 1   name              1000 non-null   int64  \n",
      " 2   gender            1000 non-null   object \n",
      " 3   age               1000 non-null   int64  \n",
      " 4   grade_level       1000 non-null   float64\n",
      " 5   math_score        1000 non-null   int64  \n",
      " 6   reading_score     1000 non-null   float64\n",
      " 7   writing_score     1000 non-null   float64\n",
      " 8   attendance_rate   1000 non-null   float64\n",
      " 9   parent_education  1000 non-null   object \n",
      " 10  study_hours       1000 non-null   float64\n",
      " 11  lunch_type        1000 non-null   object \n",
      " 12  extra_activities  1000 non-null   object \n",
      " 13  final_result      1000 non-null   object \n",
      " 14  int_No            1000 non-null   int64  \n",
      " 15  int_Yes           1000 non-null   int64  \n",
      "dtypes: float64(5), int64(5), object(6)\n",
      "memory usage: 125.1+ KB\n"
     ]
    }
   ],
   "source": [
    "df.info()"
   ]
  },
  {
   "cell_type": "code",
   "execution_count": 17,
   "id": "2a2223c4",
   "metadata": {},
   "outputs": [],
   "source": [
    "freq_encoding=df['lunch_type'].value_counts()\n",
    "df['Lunch_freq']=df['lunch_type'].map(freq_encoding)"
   ]
  },
  {
   "cell_type": "code",
   "execution_count": 18,
   "id": "2cae9ca2",
   "metadata": {},
   "outputs": [
    {
     "name": "stdout",
     "output_type": "stream",
     "text": [
      "<class 'pandas.core.frame.DataFrame'>\n",
      "RangeIndex: 1000 entries, 0 to 999\n",
      "Data columns (total 17 columns):\n",
      " #   Column            Non-Null Count  Dtype  \n",
      "---  ------            --------------  -----  \n",
      " 0   student_id        1000 non-null   object \n",
      " 1   name              1000 non-null   int64  \n",
      " 2   gender            1000 non-null   object \n",
      " 3   age               1000 non-null   int64  \n",
      " 4   grade_level       1000 non-null   float64\n",
      " 5   math_score        1000 non-null   int64  \n",
      " 6   reading_score     1000 non-null   float64\n",
      " 7   writing_score     1000 non-null   float64\n",
      " 8   attendance_rate   1000 non-null   float64\n",
      " 9   parent_education  1000 non-null   object \n",
      " 10  study_hours       1000 non-null   float64\n",
      " 11  lunch_type        1000 non-null   object \n",
      " 12  extra_activities  1000 non-null   object \n",
      " 13  final_result      1000 non-null   object \n",
      " 14  int_No            1000 non-null   int64  \n",
      " 15  int_Yes           1000 non-null   int64  \n",
      " 16  Lunch_freq        1000 non-null   int64  \n",
      "dtypes: float64(5), int64(6), object(6)\n",
      "memory usage: 132.9+ KB\n"
     ]
    }
   ],
   "source": [
    "df.info()"
   ]
  },
  {
   "cell_type": "code",
   "execution_count": 19,
   "id": "5e9f5ee2",
   "metadata": {},
   "outputs": [],
   "source": [
    "df.drop('lunch_type',axis=1,inplace=True)"
   ]
  },
  {
   "cell_type": "code",
   "execution_count": 20,
   "id": "cdb486cd",
   "metadata": {},
   "outputs": [
    {
     "name": "stdout",
     "output_type": "stream",
     "text": [
      "<class 'pandas.core.frame.DataFrame'>\n",
      "RangeIndex: 1000 entries, 0 to 999\n",
      "Data columns (total 16 columns):\n",
      " #   Column            Non-Null Count  Dtype  \n",
      "---  ------            --------------  -----  \n",
      " 0   student_id        1000 non-null   object \n",
      " 1   name              1000 non-null   int64  \n",
      " 2   gender            1000 non-null   object \n",
      " 3   age               1000 non-null   int64  \n",
      " 4   grade_level       1000 non-null   float64\n",
      " 5   math_score        1000 non-null   int64  \n",
      " 6   reading_score     1000 non-null   float64\n",
      " 7   writing_score     1000 non-null   float64\n",
      " 8   attendance_rate   1000 non-null   float64\n",
      " 9   parent_education  1000 non-null   object \n",
      " 10  study_hours       1000 non-null   float64\n",
      " 11  extra_activities  1000 non-null   object \n",
      " 12  final_result      1000 non-null   object \n",
      " 13  int_No            1000 non-null   int64  \n",
      " 14  int_Yes           1000 non-null   int64  \n",
      " 15  Lunch_freq        1000 non-null   int64  \n",
      "dtypes: float64(5), int64(6), object(5)\n",
      "memory usage: 125.1+ KB\n"
     ]
    }
   ],
   "source": [
    "df.info()"
   ]
  },
  {
   "cell_type": "code",
   "execution_count": null,
   "id": "9e439e1f",
   "metadata": {},
   "outputs": [],
   "source": []
  },
  {
   "cell_type": "markdown",
   "id": "49d734a5",
   "metadata": {},
   "source": [
    "Target Encoding"
   ]
  },
  {
   "cell_type": "code",
   "execution_count": 21,
   "id": "df2629b4",
   "metadata": {},
   "outputs": [
    {
     "data": {
      "text/plain": [
       "extra_activities\n",
       "Yes    535\n",
       "No     465\n",
       "Name: count, dtype: int64"
      ]
     },
     "execution_count": 21,
     "metadata": {},
     "output_type": "execute_result"
    }
   ],
   "source": [
    "df['extra_activities'].value_counts()"
   ]
  },
  {
   "cell_type": "code",
   "execution_count": 25,
   "id": "b11b9dcb",
   "metadata": {},
   "outputs": [],
   "source": [
    "target_enc = df.groupby('extra_activities')['study_hours'].mean()\n",
    "df['activities_target'] = df['extra_activities'].map(target_enc)"
   ]
  },
  {
   "cell_type": "code",
   "execution_count": 26,
   "id": "8447919a",
   "metadata": {},
   "outputs": [
    {
     "name": "stdout",
     "output_type": "stream",
     "text": [
      "<class 'pandas.core.frame.DataFrame'>\n",
      "RangeIndex: 1000 entries, 0 to 999\n",
      "Data columns (total 18 columns):\n",
      " #   Column             Non-Null Count  Dtype  \n",
      "---  ------             --------------  -----  \n",
      " 0   student_id         1000 non-null   object \n",
      " 1   name               1000 non-null   int64  \n",
      " 2   gender             1000 non-null   object \n",
      " 3   age                1000 non-null   int64  \n",
      " 4   grade_level        1000 non-null   float64\n",
      " 5   math_score         1000 non-null   int64  \n",
      " 6   reading_score      1000 non-null   float64\n",
      " 7   writing_score      1000 non-null   float64\n",
      " 8   attendance_rate    1000 non-null   float64\n",
      " 9   parent_education   1000 non-null   object \n",
      " 10  study_hours        1000 non-null   float64\n",
      " 11  extra_activities   1000 non-null   object \n",
      " 12  final_result       1000 non-null   object \n",
      " 13  int_No             1000 non-null   int64  \n",
      " 14  int_Yes            1000 non-null   int64  \n",
      " 15  Lunch_freq         1000 non-null   int64  \n",
      " 16  activities         1000 non-null   float64\n",
      " 17  activities_target  1000 non-null   float64\n",
      "dtypes: float64(7), int64(6), object(5)\n",
      "memory usage: 140.8+ KB\n"
     ]
    }
   ],
   "source": [
    "df.info()"
   ]
  },
  {
   "cell_type": "code",
   "execution_count": null,
   "id": "f76f8550",
   "metadata": {},
   "outputs": [],
   "source": []
  },
  {
   "cell_type": "markdown",
   "id": "bf10c434",
   "metadata": {},
   "source": [
    "Ordinal Encoding"
   ]
  },
  {
   "cell_type": "code",
   "execution_count": 27,
   "id": "8bb782c2",
   "metadata": {},
   "outputs": [
    {
     "name": "stdout",
     "output_type": "stream",
     "text": [
      "<class 'pandas.core.frame.DataFrame'>\n",
      "RangeIndex: 1000 entries, 0 to 999\n",
      "Data columns (total 18 columns):\n",
      " #   Column             Non-Null Count  Dtype  \n",
      "---  ------             --------------  -----  \n",
      " 0   student_id         1000 non-null   object \n",
      " 1   name               1000 non-null   int64  \n",
      " 2   gender             1000 non-null   object \n",
      " 3   age                1000 non-null   int64  \n",
      " 4   grade_level        1000 non-null   float64\n",
      " 5   math_score         1000 non-null   int64  \n",
      " 6   reading_score      1000 non-null   float64\n",
      " 7   writing_score      1000 non-null   float64\n",
      " 8   attendance_rate    1000 non-null   float64\n",
      " 9   parent_education   1000 non-null   object \n",
      " 10  study_hours        1000 non-null   float64\n",
      " 11  extra_activities   1000 non-null   object \n",
      " 12  final_result       1000 non-null   object \n",
      " 13  int_No             1000 non-null   int64  \n",
      " 14  int_Yes            1000 non-null   int64  \n",
      " 15  Lunch_freq         1000 non-null   int64  \n",
      " 16  activities         1000 non-null   float64\n",
      " 17  activities_target  1000 non-null   float64\n",
      "dtypes: float64(7), int64(6), object(5)\n",
      "memory usage: 140.8+ KB\n"
     ]
    }
   ],
   "source": [
    "df.info()"
   ]
  },
  {
   "cell_type": "code",
   "execution_count": 28,
   "id": "89221a1b",
   "metadata": {},
   "outputs": [
    {
     "data": {
      "text/plain": [
       "parent_education\n",
       "Bachelor's     275\n",
       "PhD            254\n",
       "High School    244\n",
       "Master's       227\n",
       "Name: count, dtype: int64"
      ]
     },
     "execution_count": 28,
     "metadata": {},
     "output_type": "execute_result"
    }
   ],
   "source": [
    "df['parent_education'].value_counts()"
   ]
  },
  {
   "cell_type": "code",
   "execution_count": 29,
   "id": "76f2739e",
   "metadata": {},
   "outputs": [],
   "source": [
    "parent_degree={\n",
    "    'High School' : 0,\n",
    "    'Bachelor\\'s' : 1,\n",
    "    'Master\\'s' : 2,\n",
    "    'PhD' : 3\n",
    "}"
   ]
  },
  {
   "cell_type": "code",
   "execution_count": 30,
   "id": "4a249116",
   "metadata": {},
   "outputs": [],
   "source": [
    "df['degree_parents']=df['parent_education'].map(parent_degree)"
   ]
  },
  {
   "cell_type": "code",
   "execution_count": 31,
   "id": "55d46921",
   "metadata": {},
   "outputs": [
    {
     "name": "stdout",
     "output_type": "stream",
     "text": [
      "<class 'pandas.core.frame.DataFrame'>\n",
      "RangeIndex: 1000 entries, 0 to 999\n",
      "Data columns (total 19 columns):\n",
      " #   Column             Non-Null Count  Dtype  \n",
      "---  ------             --------------  -----  \n",
      " 0   student_id         1000 non-null   object \n",
      " 1   name               1000 non-null   int64  \n",
      " 2   gender             1000 non-null   object \n",
      " 3   age                1000 non-null   int64  \n",
      " 4   grade_level        1000 non-null   float64\n",
      " 5   math_score         1000 non-null   int64  \n",
      " 6   reading_score      1000 non-null   float64\n",
      " 7   writing_score      1000 non-null   float64\n",
      " 8   attendance_rate    1000 non-null   float64\n",
      " 9   parent_education   1000 non-null   object \n",
      " 10  study_hours        1000 non-null   float64\n",
      " 11  extra_activities   1000 non-null   object \n",
      " 12  final_result       1000 non-null   object \n",
      " 13  int_No             1000 non-null   int64  \n",
      " 14  int_Yes            1000 non-null   int64  \n",
      " 15  Lunch_freq         1000 non-null   int64  \n",
      " 16  activities         1000 non-null   float64\n",
      " 17  activities_target  1000 non-null   float64\n",
      " 18  degree_parents     1000 non-null   int64  \n",
      "dtypes: float64(7), int64(7), object(5)\n",
      "memory usage: 148.6+ KB\n"
     ]
    }
   ],
   "source": [
    "df.info()"
   ]
  },
  {
   "cell_type": "code",
   "execution_count": 32,
   "id": "aeef40e4",
   "metadata": {},
   "outputs": [],
   "source": [
    "df.drop('parent_education', axis=1, inplace=True)"
   ]
  },
  {
   "cell_type": "code",
   "execution_count": 33,
   "id": "0654af66",
   "metadata": {},
   "outputs": [
    {
     "name": "stdout",
     "output_type": "stream",
     "text": [
      "<class 'pandas.core.frame.DataFrame'>\n",
      "RangeIndex: 1000 entries, 0 to 999\n",
      "Data columns (total 18 columns):\n",
      " #   Column             Non-Null Count  Dtype  \n",
      "---  ------             --------------  -----  \n",
      " 0   student_id         1000 non-null   object \n",
      " 1   name               1000 non-null   int64  \n",
      " 2   gender             1000 non-null   object \n",
      " 3   age                1000 non-null   int64  \n",
      " 4   grade_level        1000 non-null   float64\n",
      " 5   math_score         1000 non-null   int64  \n",
      " 6   reading_score      1000 non-null   float64\n",
      " 7   writing_score      1000 non-null   float64\n",
      " 8   attendance_rate    1000 non-null   float64\n",
      " 9   study_hours        1000 non-null   float64\n",
      " 10  extra_activities   1000 non-null   object \n",
      " 11  final_result       1000 non-null   object \n",
      " 12  int_No             1000 non-null   int64  \n",
      " 13  int_Yes            1000 non-null   int64  \n",
      " 14  Lunch_freq         1000 non-null   int64  \n",
      " 15  activities         1000 non-null   float64\n",
      " 16  activities_target  1000 non-null   float64\n",
      " 17  degree_parents     1000 non-null   int64  \n",
      "dtypes: float64(7), int64(7), object(4)\n",
      "memory usage: 140.8+ KB\n"
     ]
    }
   ],
   "source": [
    "df.info()"
   ]
  },
  {
   "cell_type": "code",
   "execution_count": 34,
   "id": "f656fef3",
   "metadata": {},
   "outputs": [
    {
     "data": {
      "text/plain": [
       "['student_id',\n",
       " 'name',\n",
       " 'gender',\n",
       " 'age',\n",
       " 'grade_level',\n",
       " 'math_score',\n",
       " 'reading_score',\n",
       " 'writing_score',\n",
       " 'attendance_rate',\n",
       " 'study_hours',\n",
       " 'extra_activities',\n",
       " 'final_result',\n",
       " 'int_No',\n",
       " 'int_Yes',\n",
       " 'Lunch_freq',\n",
       " 'activities',\n",
       " 'activities_target',\n",
       " 'degree_parents']"
      ]
     },
     "execution_count": 34,
     "metadata": {},
     "output_type": "execute_result"
    }
   ],
   "source": [
    "df.columns.tolist()"
   ]
  },
  {
   "cell_type": "code",
   "execution_count": null,
   "id": "77683afb",
   "metadata": {},
   "outputs": [],
   "source": []
  }
 ],
 "metadata": {
  "kernelspec": {
   "display_name": "Python 3",
   "language": "python",
   "name": "python3"
  },
  "language_info": {
   "codemirror_mode": {
    "name": "ipython",
    "version": 3
   },
   "file_extension": ".py",
   "mimetype": "text/x-python",
   "name": "python",
   "nbconvert_exporter": "python",
   "pygments_lexer": "ipython3",
   "version": "3.13.5"
  }
 },
 "nbformat": 4,
 "nbformat_minor": 5
}
