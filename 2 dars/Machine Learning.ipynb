{
 "cells": [
  {
   "cell_type": "code",
   "execution_count": 1,
   "metadata": {},
   "outputs": [
    {
     "name": "stdout",
     "output_type": "stream",
     "text": [
      "160\n",
      "20\n",
      "6300\n",
      "1.2857142857142858\n",
      "1\n",
      "20\n",
      "62657874821779703792562241943419303322066944468106652748595980508010000000000000000000000000000000000000000000000000000000000000000000000\n",
      "62657874821779703792562241943419303322066944468106652748595980508010000000000000000000000000000000000000000000000000000000000000000000000\n"
     ]
    }
   ],
   "source": [
    "sonA = 90\n",
    "sonB = 70\n",
    "print(sonA + sonB)\n",
    "print(sonA - sonB)\n",
    "print(sonA * sonB)\n",
    "print(sonA / sonB)\n",
    "print(sonA // sonB)\n",
    "print(sonA % sonB)\n",
    "print(sonA ** sonB)\n",
    "print(pow(sonA, sonB))"
   ]
  },
  {
   "cell_type": "code",
   "execution_count": null,
   "metadata": {},
   "outputs": [],
   "source": []
  }
 ],
 "metadata": {
  "kernelspec": {
   "display_name": "Python 3",
   "language": "python",
   "name": "python3"
  },
  "language_info": {
   "codemirror_mode": {
    "name": "ipython",
    "version": 3
   },
   "file_extension": ".py",
   "mimetype": "text/x-python",
   "name": "python",
   "nbconvert_exporter": "python",
   "pygments_lexer": "ipython3",
   "version": "3.13.1"
  }
 },
 "nbformat": 4,
 "nbformat_minor": 2
}
