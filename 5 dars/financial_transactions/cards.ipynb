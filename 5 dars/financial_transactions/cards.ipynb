{
 "cells": [
  {
   "cell_type": "markdown",
   "metadata": {},
   "source": [
    "Pandas kutubxonasini ustanovka qilib olish"
   ]
  },
  {
   "cell_type": "code",
   "execution_count": 2,
   "metadata": {},
   "outputs": [],
   "source": [
    "import pandas as pd"
   ]
  },
  {
   "cell_type": "code",
   "execution_count": 3,
   "metadata": {},
   "outputs": [],
   "source": [
    "df=pd.read_csv('cards_data.csv')"
   ]
  },
  {
   "cell_type": "code",
   "execution_count": 4,
   "metadata": {},
   "outputs": [
    {
     "data": {
      "text/html": [
       "<div>\n",
       "<style scoped>\n",
       "    .dataframe tbody tr th:only-of-type {\n",
       "        vertical-align: middle;\n",
       "    }\n",
       "\n",
       "    .dataframe tbody tr th {\n",
       "        vertical-align: top;\n",
       "    }\n",
       "\n",
       "    .dataframe thead th {\n",
       "        text-align: right;\n",
       "    }\n",
       "</style>\n",
       "<table border=\"1\" class=\"dataframe\">\n",
       "  <thead>\n",
       "    <tr style=\"text-align: right;\">\n",
       "      <th></th>\n",
       "      <th>id</th>\n",
       "      <th>client_id</th>\n",
       "      <th>card_brand</th>\n",
       "      <th>card_type</th>\n",
       "      <th>card_number</th>\n",
       "      <th>expires</th>\n",
       "      <th>cvv</th>\n",
       "      <th>has_chip</th>\n",
       "      <th>num_cards_issued</th>\n",
       "      <th>credit_limit</th>\n",
       "      <th>acct_open_date</th>\n",
       "      <th>year_pin_last_changed</th>\n",
       "      <th>card_on_dark_web</th>\n",
       "    </tr>\n",
       "  </thead>\n",
       "  <tbody>\n",
       "    <tr>\n",
       "      <th>0</th>\n",
       "      <td>4524</td>\n",
       "      <td>825</td>\n",
       "      <td>Visa</td>\n",
       "      <td>Debit</td>\n",
       "      <td>4.344680e+15</td>\n",
       "      <td>Dec-22</td>\n",
       "      <td>623</td>\n",
       "      <td>YES</td>\n",
       "      <td>2</td>\n",
       "      <td>$24,295</td>\n",
       "      <td>Sep-02</td>\n",
       "      <td>2008.0</td>\n",
       "      <td>No</td>\n",
       "    </tr>\n",
       "    <tr>\n",
       "      <th>1</th>\n",
       "      <td>2731</td>\n",
       "      <td>825</td>\n",
       "      <td>Visa</td>\n",
       "      <td>Debit</td>\n",
       "      <td>4.956970e+15</td>\n",
       "      <td>Dec-20</td>\n",
       "      <td>393</td>\n",
       "      <td>YES</td>\n",
       "      <td>2</td>\n",
       "      <td>$21,968</td>\n",
       "      <td>Apr-14</td>\n",
       "      <td>2014.0</td>\n",
       "      <td>No</td>\n",
       "    </tr>\n",
       "    <tr>\n",
       "      <th>2</th>\n",
       "      <td>3701</td>\n",
       "      <td>825</td>\n",
       "      <td>Visa</td>\n",
       "      <td>Debit</td>\n",
       "      <td>4.582310e+15</td>\n",
       "      <td>Feb-24</td>\n",
       "      <td>719</td>\n",
       "      <td>YES</td>\n",
       "      <td>2</td>\n",
       "      <td>$46,414</td>\n",
       "      <td>Jul-03</td>\n",
       "      <td>2004.0</td>\n",
       "      <td>No</td>\n",
       "    </tr>\n",
       "    <tr>\n",
       "      <th>3</th>\n",
       "      <td>42</td>\n",
       "      <td>825</td>\n",
       "      <td>Visa</td>\n",
       "      <td>Credit</td>\n",
       "      <td>4.879490e+15</td>\n",
       "      <td>Aug-24</td>\n",
       "      <td>693</td>\n",
       "      <td>NO</td>\n",
       "      <td>1</td>\n",
       "      <td>$12,400</td>\n",
       "      <td>Jan-03</td>\n",
       "      <td>2012.0</td>\n",
       "      <td>No</td>\n",
       "    </tr>\n",
       "    <tr>\n",
       "      <th>4</th>\n",
       "      <td>4659</td>\n",
       "      <td>825</td>\n",
       "      <td>Mastercard</td>\n",
       "      <td>Debit (Prepaid)</td>\n",
       "      <td>5.722870e+15</td>\n",
       "      <td>Mar-09</td>\n",
       "      <td>75</td>\n",
       "      <td>YES</td>\n",
       "      <td>1</td>\n",
       "      <td>$28</td>\n",
       "      <td>Sep-08</td>\n",
       "      <td>2009.0</td>\n",
       "      <td>No</td>\n",
       "    </tr>\n",
       "    <tr>\n",
       "      <th>5</th>\n",
       "      <td>4537</td>\n",
       "      <td>1746</td>\n",
       "      <td>Visa</td>\n",
       "      <td>Credit</td>\n",
       "      <td>4.404900e+15</td>\n",
       "      <td>Sep-03</td>\n",
       "      <td>736</td>\n",
       "      <td>YES</td>\n",
       "      <td>1</td>\n",
       "      <td>$27,500</td>\n",
       "      <td>Sep-03</td>\n",
       "      <td>2012.0</td>\n",
       "      <td>No</td>\n",
       "    </tr>\n",
       "    <tr>\n",
       "      <th>6</th>\n",
       "      <td>1278</td>\n",
       "      <td>1746</td>\n",
       "      <td>Visa</td>\n",
       "      <td>Debit</td>\n",
       "      <td>4.001480e+15</td>\n",
       "      <td>Jul-22</td>\n",
       "      <td>972</td>\n",
       "      <td>YES</td>\n",
       "      <td>2</td>\n",
       "      <td>$28,508</td>\n",
       "      <td>Feb-11</td>\n",
       "      <td>2011.0</td>\n",
       "      <td>No</td>\n",
       "    </tr>\n",
       "    <tr>\n",
       "      <th>7</th>\n",
       "      <td>3687</td>\n",
       "      <td>1746</td>\n",
       "      <td>Mastercard</td>\n",
       "      <td>Debit</td>\n",
       "      <td>5.627220e+15</td>\n",
       "      <td>Jun-22</td>\n",
       "      <td>48</td>\n",
       "      <td>YES</td>\n",
       "      <td>2</td>\n",
       "      <td>$9,022</td>\n",
       "      <td>Jul-03</td>\n",
       "      <td>2015.0</td>\n",
       "      <td>No</td>\n",
       "    </tr>\n",
       "    <tr>\n",
       "      <th>8</th>\n",
       "      <td>3465</td>\n",
       "      <td>1746</td>\n",
       "      <td>Mastercard</td>\n",
       "      <td>Debit (Prepaid)</td>\n",
       "      <td>5.711380e+15</td>\n",
       "      <td>Nov-20</td>\n",
       "      <td>722</td>\n",
       "      <td>YES</td>\n",
       "      <td>2</td>\n",
       "      <td>$54</td>\n",
       "      <td>Jun-10</td>\n",
       "      <td>2015.0</td>\n",
       "      <td>No</td>\n",
       "    </tr>\n",
       "    <tr>\n",
       "      <th>9</th>\n",
       "      <td>3754</td>\n",
       "      <td>1746</td>\n",
       "      <td>Mastercard</td>\n",
       "      <td>Debit (Prepaid)</td>\n",
       "      <td>5.766120e+15</td>\n",
       "      <td>Feb-23</td>\n",
       "      <td>908</td>\n",
       "      <td>YES</td>\n",
       "      <td>1</td>\n",
       "      <td>$99</td>\n",
       "      <td>Jul-06</td>\n",
       "      <td>2012.0</td>\n",
       "      <td>No</td>\n",
       "    </tr>\n",
       "  </tbody>\n",
       "</table>\n",
       "</div>"
      ],
      "text/plain": [
       "     id  client_id  card_brand        card_type   card_number expires  cvv  \\\n",
       "0  4524        825        Visa            Debit  4.344680e+15  Dec-22  623   \n",
       "1  2731        825        Visa            Debit  4.956970e+15  Dec-20  393   \n",
       "2  3701        825        Visa            Debit  4.582310e+15  Feb-24  719   \n",
       "3    42        825        Visa           Credit  4.879490e+15  Aug-24  693   \n",
       "4  4659        825  Mastercard  Debit (Prepaid)  5.722870e+15  Mar-09   75   \n",
       "5  4537       1746        Visa           Credit  4.404900e+15  Sep-03  736   \n",
       "6  1278       1746        Visa            Debit  4.001480e+15  Jul-22  972   \n",
       "7  3687       1746  Mastercard            Debit  5.627220e+15  Jun-22   48   \n",
       "8  3465       1746  Mastercard  Debit (Prepaid)  5.711380e+15  Nov-20  722   \n",
       "9  3754       1746  Mastercard  Debit (Prepaid)  5.766120e+15  Feb-23  908   \n",
       "\n",
       "  has_chip  num_cards_issued credit_limit acct_open_date  \\\n",
       "0      YES                 2     $24,295          Sep-02   \n",
       "1      YES                 2     $21,968          Apr-14   \n",
       "2      YES                 2     $46,414          Jul-03   \n",
       "3       NO                 1     $12,400          Jan-03   \n",
       "4      YES                 1         $28          Sep-08   \n",
       "5      YES                 1     $27,500          Sep-03   \n",
       "6      YES                 2     $28,508          Feb-11   \n",
       "7      YES                 2      $9,022          Jul-03   \n",
       "8      YES                 2         $54          Jun-10   \n",
       "9      YES                 1         $99          Jul-06   \n",
       "\n",
       "   year_pin_last_changed card_on_dark_web  \n",
       "0                 2008.0               No  \n",
       "1                 2014.0               No  \n",
       "2                 2004.0               No  \n",
       "3                 2012.0               No  \n",
       "4                 2009.0               No  \n",
       "5                 2012.0               No  \n",
       "6                 2011.0               No  \n",
       "7                 2015.0               No  \n",
       "8                 2015.0               No  \n",
       "9                 2012.0               No  "
      ]
     },
     "execution_count": 4,
     "metadata": {},
     "output_type": "execute_result"
    }
   ],
   "source": [
    "df.head(10)"
   ]
  },
  {
   "cell_type": "code",
   "execution_count": 5,
   "metadata": {},
   "outputs": [
    {
     "data": {
      "text/html": [
       "<div>\n",
       "<style scoped>\n",
       "    .dataframe tbody tr th:only-of-type {\n",
       "        vertical-align: middle;\n",
       "    }\n",
       "\n",
       "    .dataframe tbody tr th {\n",
       "        vertical-align: top;\n",
       "    }\n",
       "\n",
       "    .dataframe thead th {\n",
       "        text-align: right;\n",
       "    }\n",
       "</style>\n",
       "<table border=\"1\" class=\"dataframe\">\n",
       "  <thead>\n",
       "    <tr style=\"text-align: right;\">\n",
       "      <th></th>\n",
       "      <th>id</th>\n",
       "      <th>client_id</th>\n",
       "      <th>card_brand</th>\n",
       "      <th>card_type</th>\n",
       "      <th>card_number</th>\n",
       "      <th>expires</th>\n",
       "      <th>cvv</th>\n",
       "      <th>has_chip</th>\n",
       "      <th>num_cards_issued</th>\n",
       "      <th>credit_limit</th>\n",
       "      <th>acct_open_date</th>\n",
       "      <th>year_pin_last_changed</th>\n",
       "      <th>card_on_dark_web</th>\n",
       "    </tr>\n",
       "  </thead>\n",
       "  <tbody>\n",
       "    <tr>\n",
       "      <th>6136</th>\n",
       "      <td>5295</td>\n",
       "      <td>1944</td>\n",
       "      <td>Mastercard</td>\n",
       "      <td>Debit</td>\n",
       "      <td>5.345230e+15</td>\n",
       "      <td>Jun-18</td>\n",
       "      <td>321</td>\n",
       "      <td>NO</td>\n",
       "      <td>2</td>\n",
       "      <td>$19,756</td>\n",
       "      <td>Oct-14</td>\n",
       "      <td>2014.0</td>\n",
       "      <td>No</td>\n",
       "    </tr>\n",
       "    <tr>\n",
       "      <th>6137</th>\n",
       "      <td>1304</td>\n",
       "      <td>1944</td>\n",
       "      <td>Mastercard</td>\n",
       "      <td>Debit</td>\n",
       "      <td>5.867400e+15</td>\n",
       "      <td>Jan-22</td>\n",
       "      <td>493</td>\n",
       "      <td>NO</td>\n",
       "      <td>1</td>\n",
       "      <td>$17,116</td>\n",
       "      <td>Feb-12</td>\n",
       "      <td>2012.0</td>\n",
       "      <td>No</td>\n",
       "    </tr>\n",
       "    <tr>\n",
       "      <th>6138</th>\n",
       "      <td>33</td>\n",
       "      <td>1944</td>\n",
       "      <td>Visa</td>\n",
       "      <td>Credit</td>\n",
       "      <td>4.803530e+15</td>\n",
       "      <td>Sep-21</td>\n",
       "      <td>383</td>\n",
       "      <td>YES</td>\n",
       "      <td>1</td>\n",
       "      <td>$11,100</td>\n",
       "      <td>Jan-02</td>\n",
       "      <td>2009.0</td>\n",
       "      <td>No</td>\n",
       "    </tr>\n",
       "    <tr>\n",
       "      <th>6139</th>\n",
       "      <td>1059</td>\n",
       "      <td>1944</td>\n",
       "      <td>Mastercard</td>\n",
       "      <td>Debit</td>\n",
       "      <td>5.040200e+15</td>\n",
       "      <td>Nov-21</td>\n",
       "      <td>832</td>\n",
       "      <td>YES</td>\n",
       "      <td>1</td>\n",
       "      <td>$2,468</td>\n",
       "      <td>Feb-05</td>\n",
       "      <td>2005.0</td>\n",
       "      <td>No</td>\n",
       "    </tr>\n",
       "    <tr>\n",
       "      <th>6140</th>\n",
       "      <td>4046</td>\n",
       "      <td>185</td>\n",
       "      <td>Mastercard</td>\n",
       "      <td>Debit</td>\n",
       "      <td>5.916550e+15</td>\n",
       "      <td>Jul-24</td>\n",
       "      <td>314</td>\n",
       "      <td>YES</td>\n",
       "      <td>1</td>\n",
       "      <td>$16,415</td>\n",
       "      <td>Jul-16</td>\n",
       "      <td>2016.0</td>\n",
       "      <td>No</td>\n",
       "    </tr>\n",
       "    <tr>\n",
       "      <th>6141</th>\n",
       "      <td>5361</td>\n",
       "      <td>185</td>\n",
       "      <td>Amex</td>\n",
       "      <td>Credit</td>\n",
       "      <td>3.006100e+14</td>\n",
       "      <td>Jan-24</td>\n",
       "      <td>663</td>\n",
       "      <td>YES</td>\n",
       "      <td>1</td>\n",
       "      <td>$6,900</td>\n",
       "      <td>Nov-00</td>\n",
       "      <td>2013.0</td>\n",
       "      <td>No</td>\n",
       "    </tr>\n",
       "    <tr>\n",
       "      <th>6142</th>\n",
       "      <td>2711</td>\n",
       "      <td>185</td>\n",
       "      <td>Visa</td>\n",
       "      <td>Credit</td>\n",
       "      <td>4.718520e+15</td>\n",
       "      <td>Jan-21</td>\n",
       "      <td>492</td>\n",
       "      <td>YES</td>\n",
       "      <td>2</td>\n",
       "      <td>$5,700</td>\n",
       "      <td>Apr-12</td>\n",
       "      <td>2012.0</td>\n",
       "      <td>No</td>\n",
       "    </tr>\n",
       "    <tr>\n",
       "      <th>6143</th>\n",
       "      <td>1305</td>\n",
       "      <td>1007</td>\n",
       "      <td>Mastercard</td>\n",
       "      <td>Credit</td>\n",
       "      <td>5.929510e+15</td>\n",
       "      <td>Aug-20</td>\n",
       "      <td>237</td>\n",
       "      <td>NO</td>\n",
       "      <td>2</td>\n",
       "      <td>$9,200</td>\n",
       "      <td>Feb-12</td>\n",
       "      <td>2012.0</td>\n",
       "      <td>No</td>\n",
       "    </tr>\n",
       "    <tr>\n",
       "      <th>6144</th>\n",
       "      <td>743</td>\n",
       "      <td>1110</td>\n",
       "      <td>Mastercard</td>\n",
       "      <td>Debit</td>\n",
       "      <td>5.589770e+15</td>\n",
       "      <td>Jan-20</td>\n",
       "      <td>630</td>\n",
       "      <td>YES</td>\n",
       "      <td>1</td>\n",
       "      <td>$28,074</td>\n",
       "      <td>Jan-20</td>\n",
       "      <td>2020.0</td>\n",
       "      <td>No</td>\n",
       "    </tr>\n",
       "    <tr>\n",
       "      <th>6145</th>\n",
       "      <td>3199</td>\n",
       "      <td>1110</td>\n",
       "      <td>Visa</td>\n",
       "      <td>Credit</td>\n",
       "      <td>4.994010e+15</td>\n",
       "      <td>Dec-20</td>\n",
       "      <td>120</td>\n",
       "      <td>YES</td>\n",
       "      <td>1</td>\n",
       "      <td>$14,400</td>\n",
       "      <td>May-17</td>\n",
       "      <td>2017.0</td>\n",
       "      <td>No</td>\n",
       "    </tr>\n",
       "  </tbody>\n",
       "</table>\n",
       "</div>"
      ],
      "text/plain": [
       "        id  client_id  card_brand card_type   card_number expires  cvv  \\\n",
       "6136  5295       1944  Mastercard     Debit  5.345230e+15  Jun-18  321   \n",
       "6137  1304       1944  Mastercard     Debit  5.867400e+15  Jan-22  493   \n",
       "6138    33       1944        Visa    Credit  4.803530e+15  Sep-21  383   \n",
       "6139  1059       1944  Mastercard     Debit  5.040200e+15  Nov-21  832   \n",
       "6140  4046        185  Mastercard     Debit  5.916550e+15  Jul-24  314   \n",
       "6141  5361        185        Amex    Credit  3.006100e+14  Jan-24  663   \n",
       "6142  2711        185        Visa    Credit  4.718520e+15  Jan-21  492   \n",
       "6143  1305       1007  Mastercard    Credit  5.929510e+15  Aug-20  237   \n",
       "6144   743       1110  Mastercard     Debit  5.589770e+15  Jan-20  630   \n",
       "6145  3199       1110        Visa    Credit  4.994010e+15  Dec-20  120   \n",
       "\n",
       "     has_chip  num_cards_issued credit_limit acct_open_date  \\\n",
       "6136       NO                 2     $19,756          Oct-14   \n",
       "6137       NO                 1     $17,116          Feb-12   \n",
       "6138      YES                 1     $11,100          Jan-02   \n",
       "6139      YES                 1      $2,468          Feb-05   \n",
       "6140      YES                 1     $16,415          Jul-16   \n",
       "6141      YES                 1      $6,900          Nov-00   \n",
       "6142      YES                 2      $5,700          Apr-12   \n",
       "6143       NO                 2      $9,200          Feb-12   \n",
       "6144      YES                 1     $28,074          Jan-20   \n",
       "6145      YES                 1     $14,400          May-17   \n",
       "\n",
       "      year_pin_last_changed card_on_dark_web  \n",
       "6136                 2014.0               No  \n",
       "6137                 2012.0               No  \n",
       "6138                 2009.0               No  \n",
       "6139                 2005.0               No  \n",
       "6140                 2016.0               No  \n",
       "6141                 2013.0               No  \n",
       "6142                 2012.0               No  \n",
       "6143                 2012.0               No  \n",
       "6144                 2020.0               No  \n",
       "6145                 2017.0               No  "
      ]
     },
     "execution_count": 5,
     "metadata": {},
     "output_type": "execute_result"
    }
   ],
   "source": [
    "df.tail(10)"
   ]
  },
  {
   "cell_type": "code",
   "execution_count": 6,
   "metadata": {},
   "outputs": [
    {
     "name": "stdout",
     "output_type": "stream",
     "text": [
      "<class 'pandas.core.frame.DataFrame'>\n",
      "RangeIndex: 6146 entries, 0 to 6145\n",
      "Data columns (total 13 columns):\n",
      " #   Column                 Non-Null Count  Dtype  \n",
      "---  ------                 --------------  -----  \n",
      " 0   id                     6146 non-null   int64  \n",
      " 1   client_id              6146 non-null   int64  \n",
      " 2   card_brand             6138 non-null   object \n",
      " 3   card_type              6146 non-null   object \n",
      " 4   card_number            6146 non-null   float64\n",
      " 5   expires                6146 non-null   object \n",
      " 6   cvv                    6146 non-null   int64  \n",
      " 7   has_chip               6145 non-null   object \n",
      " 8   num_cards_issued       6146 non-null   int64  \n",
      " 9   credit_limit           6141 non-null   object \n",
      " 10  acct_open_date         6145 non-null   object \n",
      " 11  year_pin_last_changed  6141 non-null   float64\n",
      " 12  card_on_dark_web       6146 non-null   object \n",
      "dtypes: float64(2), int64(4), object(7)\n",
      "memory usage: 624.3+ KB\n"
     ]
    }
   ],
   "source": [
    "df.info()"
   ]
  },
  {
   "cell_type": "code",
   "execution_count": 6,
   "metadata": {},
   "outputs": [
    {
     "data": {
      "text/plain": [
       "0             Visa\n",
       "1             Visa\n",
       "2             Visa\n",
       "3             Visa\n",
       "4       Mastercard\n",
       "           ...    \n",
       "6141          Amex\n",
       "6142          Visa\n",
       "6143    Mastercard\n",
       "6144    Mastercard\n",
       "6145          Visa\n",
       "Name: card_brand, Length: 6146, dtype: object"
      ]
     },
     "execution_count": 6,
     "metadata": {},
     "output_type": "execute_result"
    }
   ],
   "source": [
    "df['card_brand']"
   ]
  },
  {
   "cell_type": "code",
   "execution_count": 7,
   "metadata": {},
   "outputs": [
    {
     "data": {
      "text/plain": [
       "card_brand\n",
       "Mastercard    3204\n",
       "Visa          2323\n",
       "Amex           402\n",
       "Discover       208\n",
       "\\                1\n",
       "Name: count, dtype: int64"
      ]
     },
     "execution_count": 7,
     "metadata": {},
     "output_type": "execute_result"
    }
   ],
   "source": [
    "df['card_brand'].value_counts()"
   ]
  },
  {
   "cell_type": "code",
   "execution_count": 10,
   "metadata": {},
   "outputs": [
    {
     "data": {
      "text/plain": [
       "id                       0\n",
       "client_id                0\n",
       "card_brand               8\n",
       "card_type                0\n",
       "card_number              0\n",
       "expires                  0\n",
       "cvv                      0\n",
       "has_chip                 1\n",
       "num_cards_issued         0\n",
       "credit_limit             5\n",
       "acct_open_date           1\n",
       "year_pin_last_changed    5\n",
       "card_on_dark_web         0\n",
       "dtype: int64"
      ]
     },
     "execution_count": 10,
     "metadata": {},
     "output_type": "execute_result"
    }
   ],
   "source": [
    "df.isnull().sum()"
   ]
  },
  {
   "cell_type": "code",
   "execution_count": 11,
   "metadata": {},
   "outputs": [
    {
     "name": "stdout",
     "output_type": "stream",
     "text": [
      "<class 'pandas.core.frame.DataFrame'>\n",
      "RangeIndex: 6146 entries, 0 to 6145\n",
      "Data columns (total 13 columns):\n",
      " #   Column                 Non-Null Count  Dtype  \n",
      "---  ------                 --------------  -----  \n",
      " 0   id                     6146 non-null   int64  \n",
      " 1   client_id              6146 non-null   int64  \n",
      " 2   card_brand             6138 non-null   object \n",
      " 3   card_type              6146 non-null   object \n",
      " 4   card_number            6146 non-null   float64\n",
      " 5   expires                6146 non-null   object \n",
      " 6   cvv                    6146 non-null   int64  \n",
      " 7   has_chip               6145 non-null   object \n",
      " 8   num_cards_issued       6146 non-null   int64  \n",
      " 9   credit_limit           6141 non-null   object \n",
      " 10  acct_open_date         6145 non-null   object \n",
      " 11  year_pin_last_changed  6141 non-null   float64\n",
      " 12  card_on_dark_web       6146 non-null   object \n",
      "dtypes: float64(2), int64(4), object(7)\n",
      "memory usage: 624.3+ KB\n"
     ]
    }
   ],
   "source": [
    "df.info()"
   ]
  },
  {
   "cell_type": "markdown",
   "metadata": {},
   "source": [
    "has_chip ustunida 1 ta tushib qolgan bor ekan shu sababli drop qilmoqchiman"
   ]
  },
  {
   "cell_type": "markdown",
   "metadata": {},
   "source": [
    "df=df.dropna(subset=has_chip)"
   ]
  },
  {
   "cell_type": "code",
   "execution_count": 12,
   "metadata": {},
   "outputs": [],
   "source": [
    "df=df.dropna(subset=['has_chip'])"
   ]
  },
  {
   "cell_type": "code",
   "execution_count": 13,
   "metadata": {},
   "outputs": [
    {
     "data": {
      "text/plain": [
       "id                       0\n",
       "client_id                0\n",
       "card_brand               8\n",
       "card_type                0\n",
       "card_number              0\n",
       "expires                  0\n",
       "cvv                      0\n",
       "has_chip                 0\n",
       "num_cards_issued         0\n",
       "credit_limit             5\n",
       "acct_open_date           1\n",
       "year_pin_last_changed    5\n",
       "card_on_dark_web         0\n",
       "dtype: int64"
      ]
     },
     "execution_count": 13,
     "metadata": {},
     "output_type": "execute_result"
    }
   ],
   "source": [
    "df.isnull().sum()"
   ]
  },
  {
   "cell_type": "markdown",
   "metadata": {},
   "source": [
    "Ko'rganimizdek has_chip 0 ga aylandi"
   ]
  },
  {
   "cell_type": "markdown",
   "metadata": {},
   "source": [
    "Endi acc_open_date ni fixed qiymat bilan toldirmqchiman"
   ]
  },
  {
   "cell_type": "markdown",
   "metadata": {},
   "source": [
    "Bu uchun eng ko'p qiymat qaysi ekanligini bilib o'sha bilan to'ldirmoqcjhiman"
   ]
  },
  {
   "cell_type": "code",
   "execution_count": 14,
   "metadata": {},
   "outputs": [
    {
     "data": {
      "text/plain": [
       "acct_open_date\n",
       "Feb-20    607\n",
       "Jan-20    571\n",
       "Feb-10     65\n",
       "Sep-09     51\n",
       "Sep-10     50\n",
       "         ... \n",
       "Sep-93      1\n",
       "Aug-95      1\n",
       "Nov-95      1\n",
       "Sep-97      1\n",
       "Jul-91      1\n",
       "Name: count, Length: 303, dtype: int64"
      ]
     },
     "execution_count": 14,
     "metadata": {},
     "output_type": "execute_result"
    }
   ],
   "source": [
    "df['acct_open_date'].value_counts()"
   ]
  },
  {
   "cell_type": "markdown",
   "metadata": {},
   "source": [
    "df['ustun_nomi'].value_counts() elementlar necha martadan qatnashganligini keltirib beradi"
   ]
  },
  {
   "cell_type": "code",
   "execution_count": 15,
   "metadata": {},
   "outputs": [
    {
     "name": "stderr",
     "output_type": "stream",
     "text": [
      "C:\\Users\\akobi\\AppData\\Local\\Temp\\ipykernel_14236\\3733438384.py:1: FutureWarning: A value is trying to be set on a copy of a DataFrame or Series through chained assignment using an inplace method.\n",
      "The behavior will change in pandas 3.0. This inplace method will never work because the intermediate object on which we are setting values always behaves as a copy.\n",
      "\n",
      "For example, when doing 'df[col].method(value, inplace=True)', try using 'df.method({col: value}, inplace=True)' or df[col] = df[col].method(value) instead, to perform the operation inplace on the original object.\n",
      "\n",
      "\n",
      "  df['acct_open_date'].fillna('Feb-20',inplace=True)\n"
     ]
    }
   ],
   "source": [
    "df['acct_open_date'].fillna('Feb-20',inplace=True)"
   ]
  },
  {
   "cell_type": "code",
   "execution_count": 16,
   "metadata": {},
   "outputs": [
    {
     "data": {
      "text/plain": [
       "id                       0\n",
       "client_id                0\n",
       "card_brand               8\n",
       "card_type                0\n",
       "card_number              0\n",
       "expires                  0\n",
       "cvv                      0\n",
       "has_chip                 0\n",
       "num_cards_issued         0\n",
       "credit_limit             5\n",
       "acct_open_date           0\n",
       "year_pin_last_changed    5\n",
       "card_on_dark_web         0\n",
       "dtype: int64"
      ]
     },
     "execution_count": 16,
     "metadata": {},
     "output_type": "execute_result"
    }
   ],
   "source": [
    "df.isnull().sum()"
   ]
  },
  {
   "cell_type": "markdown",
   "metadata": {},
   "source": [
    "Ko'rganimizdek acct_open_date 0 ga teng bo'ldi. Endi ishni davom ettiramiz."
   ]
  },
  {
   "cell_type": "markdown",
   "metadata": {},
   "source": [
    "Endigi o'zgartirmoqchi bo'lgan ustunim bu year_pin_last_changed."
   ]
  },
  {
   "cell_type": "markdown",
   "metadata": {},
   "source": [
    "Buniga mean() ni qollay olmayman chunki yillar sababligidir. Sababi float qiymat qaytarib qolishi mumkin. Bilamizki yillar float qiymatda bola olmaydi"
   ]
  },
  {
   "cell_type": "markdown",
   "metadata": {},
   "source": [
    "Shu sababli median() bilan to'ldirmoqchiman"
   ]
  },
  {
   "cell_type": "code",
   "execution_count": 17,
   "metadata": {},
   "outputs": [
    {
     "name": "stderr",
     "output_type": "stream",
     "text": [
      "C:\\Users\\akobi\\AppData\\Local\\Temp\\ipykernel_14236\\604910977.py:1: FutureWarning: A value is trying to be set on a copy of a DataFrame or Series through chained assignment using an inplace method.\n",
      "The behavior will change in pandas 3.0. This inplace method will never work because the intermediate object on which we are setting values always behaves as a copy.\n",
      "\n",
      "For example, when doing 'df[col].method(value, inplace=True)', try using 'df.method({col: value}, inplace=True)' or df[col] = df[col].method(value) instead, to perform the operation inplace on the original object.\n",
      "\n",
      "\n",
      "  df['year_pin_last_changed'].fillna(df['year_pin_last_changed'].median(), inplace=True)\n"
     ]
    }
   ],
   "source": [
    "df['year_pin_last_changed'].fillna(df['year_pin_last_changed'].median(), inplace=True)"
   ]
  },
  {
   "cell_type": "code",
   "execution_count": 18,
   "metadata": {},
   "outputs": [
    {
     "data": {
      "text/plain": [
       "id                       0\n",
       "client_id                0\n",
       "card_brand               8\n",
       "card_type                0\n",
       "card_number              0\n",
       "expires                  0\n",
       "cvv                      0\n",
       "has_chip                 0\n",
       "num_cards_issued         0\n",
       "credit_limit             5\n",
       "acct_open_date           0\n",
       "year_pin_last_changed    0\n",
       "card_on_dark_web         0\n",
       "dtype: int64"
      ]
     },
     "execution_count": 18,
     "metadata": {},
     "output_type": "execute_result"
    }
   ],
   "source": [
    "df.isnull().sum()"
   ]
  },
  {
   "cell_type": "markdown",
   "metadata": {},
   "source": [
    "year_pin_last_changed ham 0 ga o'zgardi"
   ]
  },
  {
   "cell_type": "markdown",
   "metadata": {},
   "source": [
    "Endigi navbat kredit limit va shu limitni mean bilan to'ldirmoqchiman. Yani o'rtacha qiymat bilan"
   ]
  },
  {
   "cell_type": "markdown",
   "metadata": {},
   "source": [
    "Sababi depost limit float qiymat"
   ]
  },
  {
   "cell_type": "code",
   "execution_count": 19,
   "metadata": {},
   "outputs": [
    {
     "name": "stdout",
     "output_type": "stream",
     "text": [
      "<class 'pandas.core.frame.DataFrame'>\n",
      "Index: 6145 entries, 0 to 6145\n",
      "Data columns (total 13 columns):\n",
      " #   Column                 Non-Null Count  Dtype  \n",
      "---  ------                 --------------  -----  \n",
      " 0   id                     6145 non-null   int64  \n",
      " 1   client_id              6145 non-null   int64  \n",
      " 2   card_brand             6137 non-null   object \n",
      " 3   card_type              6145 non-null   object \n",
      " 4   card_number            6145 non-null   float64\n",
      " 5   expires                6145 non-null   object \n",
      " 6   cvv                    6145 non-null   int64  \n",
      " 7   has_chip               6145 non-null   object \n",
      " 8   num_cards_issued       6145 non-null   int64  \n",
      " 9   credit_limit           6140 non-null   object \n",
      " 10  acct_open_date         6145 non-null   object \n",
      " 11  year_pin_last_changed  6145 non-null   float64\n",
      " 12  card_on_dark_web       6145 non-null   object \n",
      "dtypes: float64(2), int64(4), object(7)\n",
      "memory usage: 672.1+ KB\n"
     ]
    }
   ],
   "source": [
    "df.info()"
   ]
  },
  {
   "cell_type": "markdown",
   "metadata": {},
   "source": [
    "Yo'q adashibman sababi credit limit object type ekan shu sababli buni men buni mode() bilan bajarmoqchiman"
   ]
  },
  {
   "cell_type": "code",
   "execution_count": 20,
   "metadata": {},
   "outputs": [
    {
     "name": "stderr",
     "output_type": "stream",
     "text": [
      "C:\\Users\\akobi\\AppData\\Local\\Temp\\ipykernel_14236\\2595939652.py:1: FutureWarning: A value is trying to be set on a copy of a DataFrame or Series through chained assignment using an inplace method.\n",
      "The behavior will change in pandas 3.0. This inplace method will never work because the intermediate object on which we are setting values always behaves as a copy.\n",
      "\n",
      "For example, when doing 'df[col].method(value, inplace=True)', try using 'df.method({col: value}, inplace=True)' or df[col] = df[col].method(value) instead, to perform the operation inplace on the original object.\n",
      "\n",
      "\n",
      "  df['credit_limit'].fillna(df['credit_limit'].mode()[0], inplace=True)\n"
     ]
    }
   ],
   "source": [
    "df['credit_limit'].fillna(df['credit_limit'].mode()[0], inplace=True)"
   ]
  },
  {
   "cell_type": "code",
   "execution_count": 21,
   "metadata": {},
   "outputs": [
    {
     "data": {
      "text/plain": [
       "id                       0\n",
       "client_id                0\n",
       "card_brand               8\n",
       "card_type                0\n",
       "card_number              0\n",
       "expires                  0\n",
       "cvv                      0\n",
       "has_chip                 0\n",
       "num_cards_issued         0\n",
       "credit_limit             0\n",
       "acct_open_date           0\n",
       "year_pin_last_changed    0\n",
       "card_on_dark_web         0\n",
       "dtype: int64"
      ]
     },
     "execution_count": 21,
     "metadata": {},
     "output_type": "execute_result"
    }
   ],
   "source": [
    "df.isnull().sum()"
   ]
  },
  {
   "cell_type": "markdown",
   "metadata": {},
   "source": [
    "Faqatgina card_brand qoldi va meni shuni ham mode orqali to'g'irlamoqchiman"
   ]
  },
  {
   "cell_type": "code",
   "execution_count": 22,
   "metadata": {},
   "outputs": [
    {
     "name": "stderr",
     "output_type": "stream",
     "text": [
      "C:\\Users\\akobi\\AppData\\Local\\Temp\\ipykernel_14236\\3283393129.py:1: FutureWarning: A value is trying to be set on a copy of a DataFrame or Series through chained assignment using an inplace method.\n",
      "The behavior will change in pandas 3.0. This inplace method will never work because the intermediate object on which we are setting values always behaves as a copy.\n",
      "\n",
      "For example, when doing 'df[col].method(value, inplace=True)', try using 'df.method({col: value}, inplace=True)' or df[col] = df[col].method(value) instead, to perform the operation inplace on the original object.\n",
      "\n",
      "\n",
      "  df['card_brand'].fillna(df['card_brand'].mode()[0], inplace=True)\n"
     ]
    }
   ],
   "source": [
    "df['card_brand'].fillna(df['card_brand'].mode()[0], inplace=True)"
   ]
  },
  {
   "cell_type": "code",
   "execution_count": 23,
   "metadata": {},
   "outputs": [
    {
     "data": {
      "text/html": [
       "<div>\n",
       "<style scoped>\n",
       "    .dataframe tbody tr th:only-of-type {\n",
       "        vertical-align: middle;\n",
       "    }\n",
       "\n",
       "    .dataframe tbody tr th {\n",
       "        vertical-align: top;\n",
       "    }\n",
       "\n",
       "    .dataframe thead th {\n",
       "        text-align: right;\n",
       "    }\n",
       "</style>\n",
       "<table border=\"1\" class=\"dataframe\">\n",
       "  <thead>\n",
       "    <tr style=\"text-align: right;\">\n",
       "      <th></th>\n",
       "      <th>id</th>\n",
       "      <th>client_id</th>\n",
       "      <th>card_brand</th>\n",
       "      <th>card_type</th>\n",
       "      <th>card_number</th>\n",
       "      <th>expires</th>\n",
       "      <th>cvv</th>\n",
       "      <th>has_chip</th>\n",
       "      <th>num_cards_issued</th>\n",
       "      <th>credit_limit</th>\n",
       "      <th>acct_open_date</th>\n",
       "      <th>year_pin_last_changed</th>\n",
       "      <th>card_on_dark_web</th>\n",
       "    </tr>\n",
       "  </thead>\n",
       "  <tbody>\n",
       "    <tr>\n",
       "      <th>0</th>\n",
       "      <td>4524</td>\n",
       "      <td>825</td>\n",
       "      <td>Visa</td>\n",
       "      <td>Debit</td>\n",
       "      <td>4.344680e+15</td>\n",
       "      <td>Dec-22</td>\n",
       "      <td>623</td>\n",
       "      <td>YES</td>\n",
       "      <td>2</td>\n",
       "      <td>$24,295</td>\n",
       "      <td>Sep-02</td>\n",
       "      <td>2008.0</td>\n",
       "      <td>No</td>\n",
       "    </tr>\n",
       "    <tr>\n",
       "      <th>1</th>\n",
       "      <td>2731</td>\n",
       "      <td>825</td>\n",
       "      <td>Visa</td>\n",
       "      <td>Debit</td>\n",
       "      <td>4.956970e+15</td>\n",
       "      <td>Dec-20</td>\n",
       "      <td>393</td>\n",
       "      <td>YES</td>\n",
       "      <td>2</td>\n",
       "      <td>$21,968</td>\n",
       "      <td>Apr-14</td>\n",
       "      <td>2014.0</td>\n",
       "      <td>No</td>\n",
       "    </tr>\n",
       "    <tr>\n",
       "      <th>2</th>\n",
       "      <td>3701</td>\n",
       "      <td>825</td>\n",
       "      <td>Visa</td>\n",
       "      <td>Debit</td>\n",
       "      <td>4.582310e+15</td>\n",
       "      <td>Feb-24</td>\n",
       "      <td>719</td>\n",
       "      <td>YES</td>\n",
       "      <td>2</td>\n",
       "      <td>$46,414</td>\n",
       "      <td>Jul-03</td>\n",
       "      <td>2004.0</td>\n",
       "      <td>No</td>\n",
       "    </tr>\n",
       "    <tr>\n",
       "      <th>3</th>\n",
       "      <td>42</td>\n",
       "      <td>825</td>\n",
       "      <td>Visa</td>\n",
       "      <td>Credit</td>\n",
       "      <td>4.879490e+15</td>\n",
       "      <td>Aug-24</td>\n",
       "      <td>693</td>\n",
       "      <td>NO</td>\n",
       "      <td>1</td>\n",
       "      <td>$12,400</td>\n",
       "      <td>Jan-03</td>\n",
       "      <td>2012.0</td>\n",
       "      <td>No</td>\n",
       "    </tr>\n",
       "    <tr>\n",
       "      <th>4</th>\n",
       "      <td>4659</td>\n",
       "      <td>825</td>\n",
       "      <td>Mastercard</td>\n",
       "      <td>Debit (Prepaid)</td>\n",
       "      <td>5.722870e+15</td>\n",
       "      <td>Mar-09</td>\n",
       "      <td>75</td>\n",
       "      <td>YES</td>\n",
       "      <td>1</td>\n",
       "      <td>$28</td>\n",
       "      <td>Sep-08</td>\n",
       "      <td>2009.0</td>\n",
       "      <td>No</td>\n",
       "    </tr>\n",
       "    <tr>\n",
       "      <th>5</th>\n",
       "      <td>4537</td>\n",
       "      <td>1746</td>\n",
       "      <td>Visa</td>\n",
       "      <td>Credit</td>\n",
       "      <td>4.404900e+15</td>\n",
       "      <td>Sep-03</td>\n",
       "      <td>736</td>\n",
       "      <td>YES</td>\n",
       "      <td>1</td>\n",
       "      <td>$27,500</td>\n",
       "      <td>Sep-03</td>\n",
       "      <td>2012.0</td>\n",
       "      <td>No</td>\n",
       "    </tr>\n",
       "    <tr>\n",
       "      <th>6</th>\n",
       "      <td>1278</td>\n",
       "      <td>1746</td>\n",
       "      <td>Visa</td>\n",
       "      <td>Debit</td>\n",
       "      <td>4.001480e+15</td>\n",
       "      <td>Jul-22</td>\n",
       "      <td>972</td>\n",
       "      <td>YES</td>\n",
       "      <td>2</td>\n",
       "      <td>$28,508</td>\n",
       "      <td>Feb-11</td>\n",
       "      <td>2011.0</td>\n",
       "      <td>No</td>\n",
       "    </tr>\n",
       "    <tr>\n",
       "      <th>7</th>\n",
       "      <td>3687</td>\n",
       "      <td>1746</td>\n",
       "      <td>Mastercard</td>\n",
       "      <td>Debit</td>\n",
       "      <td>5.627220e+15</td>\n",
       "      <td>Jun-22</td>\n",
       "      <td>48</td>\n",
       "      <td>YES</td>\n",
       "      <td>2</td>\n",
       "      <td>$9,022</td>\n",
       "      <td>Jul-03</td>\n",
       "      <td>2015.0</td>\n",
       "      <td>No</td>\n",
       "    </tr>\n",
       "    <tr>\n",
       "      <th>8</th>\n",
       "      <td>3465</td>\n",
       "      <td>1746</td>\n",
       "      <td>Mastercard</td>\n",
       "      <td>Debit (Prepaid)</td>\n",
       "      <td>5.711380e+15</td>\n",
       "      <td>Nov-20</td>\n",
       "      <td>722</td>\n",
       "      <td>YES</td>\n",
       "      <td>2</td>\n",
       "      <td>$54</td>\n",
       "      <td>Jun-10</td>\n",
       "      <td>2015.0</td>\n",
       "      <td>No</td>\n",
       "    </tr>\n",
       "    <tr>\n",
       "      <th>9</th>\n",
       "      <td>3754</td>\n",
       "      <td>1746</td>\n",
       "      <td>Mastercard</td>\n",
       "      <td>Debit (Prepaid)</td>\n",
       "      <td>5.766120e+15</td>\n",
       "      <td>Feb-23</td>\n",
       "      <td>908</td>\n",
       "      <td>YES</td>\n",
       "      <td>1</td>\n",
       "      <td>$99</td>\n",
       "      <td>Jul-06</td>\n",
       "      <td>2012.0</td>\n",
       "      <td>No</td>\n",
       "    </tr>\n",
       "  </tbody>\n",
       "</table>\n",
       "</div>"
      ],
      "text/plain": [
       "     id  client_id  card_brand        card_type   card_number expires  cvv  \\\n",
       "0  4524        825        Visa            Debit  4.344680e+15  Dec-22  623   \n",
       "1  2731        825        Visa            Debit  4.956970e+15  Dec-20  393   \n",
       "2  3701        825        Visa            Debit  4.582310e+15  Feb-24  719   \n",
       "3    42        825        Visa           Credit  4.879490e+15  Aug-24  693   \n",
       "4  4659        825  Mastercard  Debit (Prepaid)  5.722870e+15  Mar-09   75   \n",
       "5  4537       1746        Visa           Credit  4.404900e+15  Sep-03  736   \n",
       "6  1278       1746        Visa            Debit  4.001480e+15  Jul-22  972   \n",
       "7  3687       1746  Mastercard            Debit  5.627220e+15  Jun-22   48   \n",
       "8  3465       1746  Mastercard  Debit (Prepaid)  5.711380e+15  Nov-20  722   \n",
       "9  3754       1746  Mastercard  Debit (Prepaid)  5.766120e+15  Feb-23  908   \n",
       "\n",
       "  has_chip  num_cards_issued credit_limit acct_open_date  \\\n",
       "0      YES                 2     $24,295          Sep-02   \n",
       "1      YES                 2     $21,968          Apr-14   \n",
       "2      YES                 2     $46,414          Jul-03   \n",
       "3       NO                 1     $12,400          Jan-03   \n",
       "4      YES                 1         $28          Sep-08   \n",
       "5      YES                 1     $27,500          Sep-03   \n",
       "6      YES                 2     $28,508          Feb-11   \n",
       "7      YES                 2      $9,022          Jul-03   \n",
       "8      YES                 2         $54          Jun-10   \n",
       "9      YES                 1         $99          Jul-06   \n",
       "\n",
       "   year_pin_last_changed card_on_dark_web  \n",
       "0                 2008.0               No  \n",
       "1                 2014.0               No  \n",
       "2                 2004.0               No  \n",
       "3                 2012.0               No  \n",
       "4                 2009.0               No  \n",
       "5                 2012.0               No  \n",
       "6                 2011.0               No  \n",
       "7                 2015.0               No  \n",
       "8                 2015.0               No  \n",
       "9                 2012.0               No  "
      ]
     },
     "execution_count": 23,
     "metadata": {},
     "output_type": "execute_result"
    }
   ],
   "source": [
    "df.head(10)"
   ]
  },
  {
   "cell_type": "code",
   "execution_count": 24,
   "metadata": {},
   "outputs": [
    {
     "data": {
      "text/plain": [
       "id                       0\n",
       "client_id                0\n",
       "card_brand               0\n",
       "card_type                0\n",
       "card_number              0\n",
       "expires                  0\n",
       "cvv                      0\n",
       "has_chip                 0\n",
       "num_cards_issued         0\n",
       "credit_limit             0\n",
       "acct_open_date           0\n",
       "year_pin_last_changed    0\n",
       "card_on_dark_web         0\n",
       "dtype: int64"
      ]
     },
     "execution_count": 24,
     "metadata": {},
     "output_type": "execute_result"
    }
   ],
   "source": [
    "df.isnull().sum()"
   ]
  },
  {
   "cell_type": "markdown",
   "metadata": {},
   "source": [
    "Hamma data miz tozalandi. Endi data preprocessing 2 bosqichi encodingni ko'rib chiqamiz"
   ]
  },
  {
   "cell_type": "markdown",
   "metadata": {},
   "source": [
    "Buning uchun sklearn kutubxonasini yuklab olmoqchiman"
   ]
  },
  {
   "cell_type": "code",
   "execution_count": 25,
   "metadata": {},
   "outputs": [
    {
     "name": "stdout",
     "output_type": "stream",
     "text": [
      "Requirement already satisfied: scikit-learn in c:\\users\\akobi\\appdata\\local\\programs\\python\\python313\\lib\\site-packages (1.6.1)\n",
      "Requirement already satisfied: numpy>=1.19.5 in c:\\users\\akobi\\appdata\\local\\programs\\python\\python313\\lib\\site-packages (from scikit-learn) (2.2.2)\n",
      "Requirement already satisfied: scipy>=1.6.0 in c:\\users\\akobi\\appdata\\local\\programs\\python\\python313\\lib\\site-packages (from scikit-learn) (1.15.1)\n",
      "Requirement already satisfied: joblib>=1.2.0 in c:\\users\\akobi\\appdata\\local\\programs\\python\\python313\\lib\\site-packages (from scikit-learn) (1.4.2)\n",
      "Requirement already satisfied: threadpoolctl>=3.1.0 in c:\\users\\akobi\\appdata\\local\\programs\\python\\python313\\lib\\site-packages (from scikit-learn) (3.5.0)\n",
      "Note: you may need to restart the kernel to use updated packages.\n"
     ]
    },
    {
     "name": "stderr",
     "output_type": "stream",
     "text": [
      "\n",
      "[notice] A new release of pip is available: 24.3.1 -> 25.0\n",
      "[notice] To update, run: python.exe -m pip install --upgrade pip\n"
     ]
    }
   ],
   "source": [
    "pip install scikit-learn"
   ]
  },
  {
   "cell_type": "code",
   "execution_count": 24,
   "metadata": {},
   "outputs": [
    {
     "data": {
      "text/html": [
       "<div>\n",
       "<style scoped>\n",
       "    .dataframe tbody tr th:only-of-type {\n",
       "        vertical-align: middle;\n",
       "    }\n",
       "\n",
       "    .dataframe tbody tr th {\n",
       "        vertical-align: top;\n",
       "    }\n",
       "\n",
       "    .dataframe thead th {\n",
       "        text-align: right;\n",
       "    }\n",
       "</style>\n",
       "<table border=\"1\" class=\"dataframe\">\n",
       "  <thead>\n",
       "    <tr style=\"text-align: right;\">\n",
       "      <th></th>\n",
       "      <th>id</th>\n",
       "      <th>client_id</th>\n",
       "      <th>card_brand</th>\n",
       "      <th>card_type</th>\n",
       "      <th>card_number</th>\n",
       "      <th>expires</th>\n",
       "      <th>cvv</th>\n",
       "      <th>has_chip</th>\n",
       "      <th>num_cards_issued</th>\n",
       "      <th>credit_limit</th>\n",
       "      <th>acct_open_date</th>\n",
       "      <th>year_pin_last_changed</th>\n",
       "      <th>card_on_dark_web</th>\n",
       "    </tr>\n",
       "  </thead>\n",
       "  <tbody>\n",
       "    <tr>\n",
       "      <th>0</th>\n",
       "      <td>4524</td>\n",
       "      <td>825</td>\n",
       "      <td>Visa</td>\n",
       "      <td>Debit</td>\n",
       "      <td>4.344680e+15</td>\n",
       "      <td>Dec-22</td>\n",
       "      <td>623</td>\n",
       "      <td>YES</td>\n",
       "      <td>2</td>\n",
       "      <td>$24,295</td>\n",
       "      <td>Sep-02</td>\n",
       "      <td>2008.0</td>\n",
       "      <td>No</td>\n",
       "    </tr>\n",
       "    <tr>\n",
       "      <th>1</th>\n",
       "      <td>2731</td>\n",
       "      <td>825</td>\n",
       "      <td>Visa</td>\n",
       "      <td>Debit</td>\n",
       "      <td>4.956970e+15</td>\n",
       "      <td>Dec-20</td>\n",
       "      <td>393</td>\n",
       "      <td>YES</td>\n",
       "      <td>2</td>\n",
       "      <td>$21,968</td>\n",
       "      <td>Apr-14</td>\n",
       "      <td>2014.0</td>\n",
       "      <td>No</td>\n",
       "    </tr>\n",
       "    <tr>\n",
       "      <th>2</th>\n",
       "      <td>3701</td>\n",
       "      <td>825</td>\n",
       "      <td>Visa</td>\n",
       "      <td>Debit</td>\n",
       "      <td>4.582310e+15</td>\n",
       "      <td>Feb-24</td>\n",
       "      <td>719</td>\n",
       "      <td>YES</td>\n",
       "      <td>2</td>\n",
       "      <td>$46,414</td>\n",
       "      <td>Jul-03</td>\n",
       "      <td>2004.0</td>\n",
       "      <td>No</td>\n",
       "    </tr>\n",
       "    <tr>\n",
       "      <th>3</th>\n",
       "      <td>42</td>\n",
       "      <td>825</td>\n",
       "      <td>Visa</td>\n",
       "      <td>Credit</td>\n",
       "      <td>4.879490e+15</td>\n",
       "      <td>Aug-24</td>\n",
       "      <td>693</td>\n",
       "      <td>NO</td>\n",
       "      <td>1</td>\n",
       "      <td>$12,400</td>\n",
       "      <td>Jan-03</td>\n",
       "      <td>2012.0</td>\n",
       "      <td>No</td>\n",
       "    </tr>\n",
       "    <tr>\n",
       "      <th>4</th>\n",
       "      <td>4659</td>\n",
       "      <td>825</td>\n",
       "      <td>Mastercard</td>\n",
       "      <td>Debit (Prepaid)</td>\n",
       "      <td>5.722870e+15</td>\n",
       "      <td>Mar-09</td>\n",
       "      <td>75</td>\n",
       "      <td>YES</td>\n",
       "      <td>1</td>\n",
       "      <td>$28</td>\n",
       "      <td>Sep-08</td>\n",
       "      <td>2009.0</td>\n",
       "      <td>No</td>\n",
       "    </tr>\n",
       "  </tbody>\n",
       "</table>\n",
       "</div>"
      ],
      "text/plain": [
       "     id  client_id  card_brand        card_type   card_number expires  cvv  \\\n",
       "0  4524        825        Visa            Debit  4.344680e+15  Dec-22  623   \n",
       "1  2731        825        Visa            Debit  4.956970e+15  Dec-20  393   \n",
       "2  3701        825        Visa            Debit  4.582310e+15  Feb-24  719   \n",
       "3    42        825        Visa           Credit  4.879490e+15  Aug-24  693   \n",
       "4  4659        825  Mastercard  Debit (Prepaid)  5.722870e+15  Mar-09   75   \n",
       "\n",
       "  has_chip  num_cards_issued credit_limit acct_open_date  \\\n",
       "0      YES                 2     $24,295          Sep-02   \n",
       "1      YES                 2     $21,968          Apr-14   \n",
       "2      YES                 2     $46,414          Jul-03   \n",
       "3       NO                 1     $12,400          Jan-03   \n",
       "4      YES                 1         $28          Sep-08   \n",
       "\n",
       "   year_pin_last_changed card_on_dark_web  \n",
       "0                 2008.0               No  \n",
       "1                 2014.0               No  \n",
       "2                 2004.0               No  \n",
       "3                 2012.0               No  \n",
       "4                 2009.0               No  "
      ]
     },
     "execution_count": 24,
     "metadata": {},
     "output_type": "execute_result"
    }
   ],
   "source": [
    "df.head()"
   ]
  },
  {
   "cell_type": "code",
   "execution_count": 26,
   "metadata": {},
   "outputs": [],
   "source": [
    "from sklearn.preprocessing import LabelEncoder, OneHotEncoder"
   ]
  },
  {
   "cell_type": "markdown",
   "metadata": {},
   "source": [
    "5 xil bor ekan shu sababli buni OneHot encodingga qo'ymoqchiman"
   ]
  },
  {
   "cell_type": "code",
   "execution_count": 27,
   "metadata": {},
   "outputs": [
    {
     "data": {
      "text/html": [
       "<div>\n",
       "<style scoped>\n",
       "    .dataframe tbody tr th:only-of-type {\n",
       "        vertical-align: middle;\n",
       "    }\n",
       "\n",
       "    .dataframe tbody tr th {\n",
       "        vertical-align: top;\n",
       "    }\n",
       "\n",
       "    .dataframe thead th {\n",
       "        text-align: right;\n",
       "    }\n",
       "</style>\n",
       "<table border=\"1\" class=\"dataframe\">\n",
       "  <thead>\n",
       "    <tr style=\"text-align: right;\">\n",
       "      <th></th>\n",
       "      <th>id</th>\n",
       "      <th>client_id</th>\n",
       "      <th>card_brand</th>\n",
       "      <th>card_type</th>\n",
       "      <th>card_number</th>\n",
       "      <th>expires</th>\n",
       "      <th>cvv</th>\n",
       "      <th>has_chip</th>\n",
       "      <th>num_cards_issued</th>\n",
       "      <th>credit_limit</th>\n",
       "      <th>acct_open_date</th>\n",
       "      <th>year_pin_last_changed</th>\n",
       "      <th>card_on_dark_web</th>\n",
       "    </tr>\n",
       "  </thead>\n",
       "  <tbody>\n",
       "    <tr>\n",
       "      <th>0</th>\n",
       "      <td>4524</td>\n",
       "      <td>825</td>\n",
       "      <td>Visa</td>\n",
       "      <td>Debit</td>\n",
       "      <td>4.344680e+15</td>\n",
       "      <td>Dec-22</td>\n",
       "      <td>623</td>\n",
       "      <td>YES</td>\n",
       "      <td>2</td>\n",
       "      <td>$24,295</td>\n",
       "      <td>Sep-02</td>\n",
       "      <td>2008.0</td>\n",
       "      <td>No</td>\n",
       "    </tr>\n",
       "    <tr>\n",
       "      <th>1</th>\n",
       "      <td>2731</td>\n",
       "      <td>825</td>\n",
       "      <td>Visa</td>\n",
       "      <td>Debit</td>\n",
       "      <td>4.956970e+15</td>\n",
       "      <td>Dec-20</td>\n",
       "      <td>393</td>\n",
       "      <td>YES</td>\n",
       "      <td>2</td>\n",
       "      <td>$21,968</td>\n",
       "      <td>Apr-14</td>\n",
       "      <td>2014.0</td>\n",
       "      <td>No</td>\n",
       "    </tr>\n",
       "    <tr>\n",
       "      <th>2</th>\n",
       "      <td>3701</td>\n",
       "      <td>825</td>\n",
       "      <td>Visa</td>\n",
       "      <td>Debit</td>\n",
       "      <td>4.582310e+15</td>\n",
       "      <td>Feb-24</td>\n",
       "      <td>719</td>\n",
       "      <td>YES</td>\n",
       "      <td>2</td>\n",
       "      <td>$46,414</td>\n",
       "      <td>Jul-03</td>\n",
       "      <td>2004.0</td>\n",
       "      <td>No</td>\n",
       "    </tr>\n",
       "    <tr>\n",
       "      <th>3</th>\n",
       "      <td>42</td>\n",
       "      <td>825</td>\n",
       "      <td>Visa</td>\n",
       "      <td>Credit</td>\n",
       "      <td>4.879490e+15</td>\n",
       "      <td>Aug-24</td>\n",
       "      <td>693</td>\n",
       "      <td>NO</td>\n",
       "      <td>1</td>\n",
       "      <td>$12,400</td>\n",
       "      <td>Jan-03</td>\n",
       "      <td>2012.0</td>\n",
       "      <td>No</td>\n",
       "    </tr>\n",
       "    <tr>\n",
       "      <th>4</th>\n",
       "      <td>4659</td>\n",
       "      <td>825</td>\n",
       "      <td>Mastercard</td>\n",
       "      <td>Debit (Prepaid)</td>\n",
       "      <td>5.722870e+15</td>\n",
       "      <td>Mar-09</td>\n",
       "      <td>75</td>\n",
       "      <td>YES</td>\n",
       "      <td>1</td>\n",
       "      <td>$28</td>\n",
       "      <td>Sep-08</td>\n",
       "      <td>2009.0</td>\n",
       "      <td>No</td>\n",
       "    </tr>\n",
       "  </tbody>\n",
       "</table>\n",
       "</div>"
      ],
      "text/plain": [
       "     id  client_id  card_brand        card_type   card_number expires  cvv  \\\n",
       "0  4524        825        Visa            Debit  4.344680e+15  Dec-22  623   \n",
       "1  2731        825        Visa            Debit  4.956970e+15  Dec-20  393   \n",
       "2  3701        825        Visa            Debit  4.582310e+15  Feb-24  719   \n",
       "3    42        825        Visa           Credit  4.879490e+15  Aug-24  693   \n",
       "4  4659        825  Mastercard  Debit (Prepaid)  5.722870e+15  Mar-09   75   \n",
       "\n",
       "  has_chip  num_cards_issued credit_limit acct_open_date  \\\n",
       "0      YES                 2     $24,295          Sep-02   \n",
       "1      YES                 2     $21,968          Apr-14   \n",
       "2      YES                 2     $46,414          Jul-03   \n",
       "3       NO                 1     $12,400          Jan-03   \n",
       "4      YES                 1         $28          Sep-08   \n",
       "\n",
       "   year_pin_last_changed card_on_dark_web  \n",
       "0                 2008.0               No  \n",
       "1                 2014.0               No  \n",
       "2                 2004.0               No  \n",
       "3                 2012.0               No  \n",
       "4                 2009.0               No  "
      ]
     },
     "execution_count": 27,
     "metadata": {},
     "output_type": "execute_result"
    }
   ],
   "source": [
    "df.head()"
   ]
  },
  {
   "cell_type": "code",
   "execution_count": 28,
   "metadata": {},
   "outputs": [
    {
     "data": {
      "text/plain": [
       "id                       0\n",
       "client_id                0\n",
       "card_brand               0\n",
       "card_type                0\n",
       "card_number              0\n",
       "expires                  0\n",
       "cvv                      0\n",
       "has_chip                 0\n",
       "num_cards_issued         0\n",
       "credit_limit             0\n",
       "acct_open_date           0\n",
       "year_pin_last_changed    0\n",
       "card_on_dark_web         0\n",
       "dtype: int64"
      ]
     },
     "execution_count": 28,
     "metadata": {},
     "output_type": "execute_result"
    }
   ],
   "source": [
    "df.isnull().sum()"
   ]
  },
  {
   "cell_type": "code",
   "execution_count": 38,
   "metadata": {},
   "outputs": [
    {
     "name": "stdout",
     "output_type": "stream",
     "text": [
      "<class 'pandas.core.frame.DataFrame'>\n",
      "Index: 0 entries\n",
      "Data columns (total 12 columns):\n",
      " #   Column                 Non-Null Count  Dtype\n",
      "---  ------                 --------------  -----\n",
      " 0   id                     0 non-null      int64\n",
      " 1   client_id              0 non-null      int64\n",
      " 2   card_type              0 non-null      int64\n",
      " 3   card_number            0 non-null      int64\n",
      " 4   expires                0 non-null      int64\n",
      " 5   cvv                    0 non-null      int64\n",
      " 6   has_chip               0 non-null      int64\n",
      " 7   num_cards_issued       0 non-null      int64\n",
      " 8   credit_limit           0 non-null      int64\n",
      " 9   acct_open_date         0 non-null      int64\n",
      " 10  year_pin_last_changed  0 non-null      int64\n",
      " 11  card_on_dark_web       0 non-null      int64\n",
      "dtypes: int64(12)\n",
      "memory usage: 0.0 bytes\n"
     ]
    }
   ],
   "source": [
    "df.info()"
   ]
  },
  {
   "cell_type": "code",
   "execution_count": 39,
   "metadata": {},
   "outputs": [
    {
     "data": {
      "text/html": [
       "<div>\n",
       "<style scoped>\n",
       "    .dataframe tbody tr th:only-of-type {\n",
       "        vertical-align: middle;\n",
       "    }\n",
       "\n",
       "    .dataframe tbody tr th {\n",
       "        vertical-align: top;\n",
       "    }\n",
       "\n",
       "    .dataframe thead th {\n",
       "        text-align: right;\n",
       "    }\n",
       "</style>\n",
       "<table border=\"1\" class=\"dataframe\">\n",
       "  <thead>\n",
       "    <tr style=\"text-align: right;\">\n",
       "      <th></th>\n",
       "      <th>id</th>\n",
       "      <th>client_id</th>\n",
       "      <th>card_type</th>\n",
       "      <th>card_number</th>\n",
       "      <th>expires</th>\n",
       "      <th>cvv</th>\n",
       "      <th>has_chip</th>\n",
       "      <th>num_cards_issued</th>\n",
       "      <th>credit_limit</th>\n",
       "      <th>acct_open_date</th>\n",
       "      <th>year_pin_last_changed</th>\n",
       "      <th>card_on_dark_web</th>\n",
       "    </tr>\n",
       "  </thead>\n",
       "  <tbody>\n",
       "  </tbody>\n",
       "</table>\n",
       "</div>"
      ],
      "text/plain": [
       "Empty DataFrame\n",
       "Columns: [id, client_id, card_type, card_number, expires, cvv, has_chip, num_cards_issued, credit_limit, acct_open_date, year_pin_last_changed, card_on_dark_web]\n",
       "Index: []"
      ]
     },
     "execution_count": 39,
     "metadata": {},
     "output_type": "execute_result"
    }
   ],
   "source": [
    "df.head(10)"
   ]
  },
  {
   "cell_type": "code",
   "execution_count": null,
   "metadata": {},
   "outputs": [],
   "source": []
  }
 ],
 "metadata": {
  "kernelspec": {
   "display_name": "Python 3",
   "language": "python",
   "name": "python3"
  },
  "language_info": {
   "codemirror_mode": {
    "name": "ipython",
    "version": 3
   },
   "file_extension": ".py",
   "mimetype": "text/x-python",
   "name": "python",
   "nbconvert_exporter": "python",
   "pygments_lexer": "ipython3",
   "version": "3.13.2"
  }
 },
 "nbformat": 4,
 "nbformat_minor": 2
}
