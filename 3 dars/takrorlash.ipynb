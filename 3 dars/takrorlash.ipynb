{
 "cells": [
  {
   "cell_type": "code",
   "execution_count": 4,
   "metadata": {},
   "outputs": [
    {
     "name": "stdout",
     "output_type": "stream",
     "text": [
      "Siz kiritgan ma'lumot turi bu string\n"
     ]
    }
   ],
   "source": [
    "def malumot_turini_aniqlash(foydalanuvchi_inputi):\n",
    "    try:\n",
    "        int(foydalanuvchi_inputi)\n",
    "        return \"integer\"\n",
    "    except ValueError:\n",
    "        try:\n",
    "            float(foydalanuvchi_inputi)\n",
    "            return \"float\"\n",
    "        except:\n",
    "            if foydalanuvchi_inputi.lower() in [\"true\", \"false\"]:\n",
    "                return \"boolean\"\n",
    "            else:\n",
    "                return \"string\"\n",
    "foydalanuvchi_inputi = input(\"Biror qiymat kiriting \")\n",
    "\n",
    "determinded_type = malumot_turini_aniqlash(foydalanuvchi_inputi=foydalanuvchi_inputi)\n",
    "print(f\"Siz kiritgan ma'lumot turi bu {determinded_type}\")\n",
    "\n"
   ]
  },
  {
   "cell_type": "markdown",
   "metadata": {},
   "source": [
    "# Takrorlash"
   ]
  },
  {
   "cell_type": "code",
   "execution_count": 22,
   "metadata": {},
   "outputs": [
    {
     "name": "stdout",
     "output_type": "stream",
     "text": [
      "Siz kiritgan sonning kvadrati 149690074\n"
     ]
    }
   ],
   "source": [
    "try:\n",
    "    user_input = input(\"Biror son kiriting >> \")\n",
    "    float_number = float(user_input)\n",
    "    sonning_kvadrati = int(float_number ** 2)\n",
    "    print(f\"Siz kiritgan sonning kvadrati {sonning_kvadrati}\")\n",
    "except ValueError:\n",
    "    print(\"Butun songa o'zgartirib bo'lmadi. Uzr\")    "
   ]
  },
  {
   "cell_type": "code",
   "execution_count": 23,
   "metadata": {},
   "outputs": [
    {
     "name": "stdout",
     "output_type": "stream",
     "text": [
      "{'1': '1', '2': '4', '3': '9', '4': '16', '5': '25'}\n"
     ]
    }
   ],
   "source": [
    "# 1 dan 5 gacha sonlarning kvadrati\n",
    "kvadratlar = {\n",
    "    \"1\": \"1\",\n",
    "    \"2\": \"4\",\n",
    "    \"3\": \"9\",\n",
    "    \"4\": \"16\",\n",
    "    \"5\": \"25\"\n",
    "}\n",
    "print(kvadratlar)"
   ]
  },
  {
   "cell_type": "markdown",
   "metadata": {},
   "source": [
    "# Data Types"
   ]
  },
  {
   "cell_type": "code",
   "execution_count": null,
   "metadata": {},
   "outputs": [],
   "source": [
    "\n",
    "#Ma'lumot turini aniqlash\n",
    "#1 Foydalanuvchidan ma'lumot oling va uning turini aniqlang: butun son (integer), o'nlik son (float), matn (string), yoki mantiqiy qiymat (boolean).\n",
    "\n",
    "\n",
    "\n",
    "#2 Tur o‘zgartirish (Type Conversion)\n",
    "# Foydalanuvchidan matn ko‘rinishida son kiriting va uni butun songa o‘zgartirib, kvadratini hisoblang. Agar o'zgartirib bo‘lmasa, xatolik xabarini chiqaring.\n",
    "\n",
    "\n",
    "\n",
    "#3 Ro‘yxat yaratish\n",
    "# 1 dan 5 gacha bo‘lgan sonlar va ularning kvadratlari saqlanadigan lug‘at (dictionary) tuzing va ekranga chiqaring.\n"
   ]
  },
  {
   "cell_type": "markdown",
   "metadata": {},
   "source": [
    "# Conditions"
   ]
  },
  {
   "cell_type": "code",
   "execution_count": 30,
   "metadata": {},
   "outputs": [
    {
     "name": "stdout",
     "output_type": "stream",
     "text": [
      "4 eng katta son\n"
     ]
    }
   ],
   "source": [
    "a_son = input(\"A sonni kiriting \")\n",
    "b_son = input(\"B sonni kiriting \")\n",
    "c_son = input(\"C sonni kiriting \")\n",
    "if a_son > b_son and c_son:\n",
    "    print(f\"{a_son} eng katta son\")\n",
    "elif b_son > a_son and c_son:\n",
    "    print(f\"{b_son} eng katta son\")\n",
    "else:\n",
    "    print(f\"{c_son} eng katta son\")"
   ]
  },
  {
   "cell_type": "code",
   "execution_count": 29,
   "metadata": {},
   "outputs": [
    {
     "name": "stdout",
     "output_type": "stream",
     "text": [
      "Yiqildingiz\n"
     ]
    }
   ],
   "source": [
    "qiymat = input(\"Bahongizni kiriting: \")\n",
    "qiymat1 = float(qiymat)\n",
    "if qiymat1 == 50 or qiymat1 > 50:\n",
    "    print(\"imtihondan o'tdingiz\")\n",
    "else:\n",
    "    print(\"Yiqildingiz\")"
   ]
  },
  {
   "cell_type": "code",
   "execution_count": 26,
   "metadata": {},
   "outputs": [
    {
     "name": "stdout",
     "output_type": "stream",
     "text": [
      "Bu toq son\n"
     ]
    }
   ],
   "source": [
    "in_put = input(\"Biror son kiriting: \")\n",
    "foy_inp = int(in_put)\n",
    "if foy_inp % 2 == 0:\n",
    "    print(\"Bu juft son\")\n",
    "else:\n",
    "    print(\"Bu toq son\")\n"
   ]
  },
  {
   "cell_type": "code",
   "execution_count": null,
   "metadata": {},
   "outputs": [],
   "source": [
    "# Juft yoki toq son\n",
    "# Berilgan son juftmi yoki toq ekanligini aniqlaydigan dastur yozing.\n",
    "\n",
    "\n",
    "\n",
    "#Oddiy baholash\n",
    "#Foydalanuvchidan baho so‘rang va 50 yoki undan yuqori bo‘lsa “O‘tgan”, past bo‘lsa “Yiqilgan” deb natija chiqaring.\n",
    "\n",
    "\n",
    "\n",
    "#Eng katta sonni topish\n",
    "#Uchta son kiriting va ularning eng kattasini ekranga chiqaring.\n",
    "\n",
    "\n",
    "\n"
   ]
  },
  {
   "cell_type": "markdown",
   "metadata": {},
   "source": [
    "# Inner Conditions"
   ]
  },
  {
   "cell_type": "code",
   "execution_count": null,
   "metadata": {},
   "outputs": [],
   "source": [
    "#Son tasnifi\n",
    "#Foydalanuvchidan son kiriting va quyidagilarni aniqlang:\n",
    "\n",
    "#Musbat yoki manfiy ekanligi.\n",
    "#Juft yoki toq ekanligi.\n",
    "# Misol kiritish: -8\n",
    "# Misol natija: Manfiy juft\n",
    "\n",
    "#Baholash tizimi\n",
    "#Foydalanuvchidan foizli baho so‘rang va quyidagi jadvalga qarab baho qo‘ying:\n",
    "\n",
    "    90-100: A\n",
    "    80-89: B\n",
    "    70-79: C\n",
    "    60-69: D\n",
    "    <60: F"
   ]
  },
  {
   "cell_type": "code",
   "execution_count": 37,
   "metadata": {},
   "outputs": [
    {
     "name": "stdout",
     "output_type": "stream",
     "text": [
      "C\n"
     ]
    }
   ],
   "source": [
    "qiy1 = input(\"Qiymat kiriting\")\n",
    "qiy = float(qiy1)\n",
    "if qiy < 60:\n",
    "    print(\"F\")\n",
    "elif qiy >= 60 and qiy < 70:\n",
    "    print(\"D\")\n",
    "elif qiy >= 70 and qiy < 80:\n",
    "    print(\"C\")\n",
    "elif qiy >= 80 and qiy < 90:\n",
    "    print(\"B\")\n",
    "elif qiy >= 90 and qiy < 100:\n",
    "    print(\"A\")\n",
    "else:\n",
    "    print(\"Togri qiymat kiriting\")"
   ]
  },
  {
   "cell_type": "code",
   "execution_count": 38,
   "metadata": {},
   "outputs": [
    {
     "name": "stdout",
     "output_type": "stream",
     "text": [
      "Musbat va toq\n"
     ]
    }
   ],
   "source": [
    "# Foydalanuvchidan qiymatni qabul qilish\n",
    "get0_inp = input(\"Qiymat kiriting >> \")\n",
    "\n",
    "# olingan qiynatni floatga type conversation qilish\n",
    "get_inp = float(get0_inp)\n",
    "\n",
    "# shartni tekshirish uchun if statementdan foydalanish\n",
    "if get_inp >= 0 and get_inp % 2 == 0:\n",
    "    print(\"musbat va juft\")\n",
    "elif get_inp < 0 and get_inp % 2 != 0:\n",
    "    print(\"Manfiy va toq\")\n",
    "elif get_inp >= 0 and get_inp % 2 != 0:\n",
    "    print(\"Musbat va toq\")\n",
    "elif get_inp < 0 and get_inp %2  == 0:\n",
    "    print(\"Manfiy va juft\")\n",
    "else:\n",
    "    print(\"Invalid value\")"
   ]
  },
  {
   "cell_type": "markdown",
   "metadata": {},
   "source": [
    "# For Loop"
   ]
  },
  {
   "cell_type": "code",
   "execution_count": null,
   "metadata": {},
   "outputs": [],
   "source": [
    "# Sonlar yig‘indisi\n",
    "# 1 dan n gacha bo‘lgan barcha sonlarning yig‘indisini hisoblang.\n",
    "\n",
    "\n",
    "# Ko‘paytirish jadvali\n",
    "# Foydalanuvchidan son kiriting va uning 1 dan 10 gacha bo‘lgan ko‘paytirish jadvalini chiqaring.\n",
    "\n",
    "# Unli harflarni sanash\n",
    "# Foydalanuvchidan matn kiriting va undagi unli harflar sonini hisoblang.\n",
    "\n",
    "# Misol kiritish: \"salom dunyo\""
   ]
  },
  {
   "cell_type": "code",
   "execution_count": 1,
   "metadata": {},
   "outputs": [
    {
     "name": "stdout",
     "output_type": "stream",
     "text": [
      "The sum of all numbers from 1 to 10 is: 55\n"
     ]
    }
   ],
   "source": [
    "# Foydalanuvchidan inputni olib birdan int ga type conversation qilish\n",
    "n = int(input(\"Enter a positive integer n: \"))\n",
    "\n",
    "# total_sum degan o'zgaruvchi yaratib uni qiymatini 0 ga tenglash\n",
    "total_sum = 0\n",
    "\n",
    "# Umumiy yig'indisini hisoblash uchun for loopdan foydalanish\n",
    "for i in range(1, n + 1):\n",
    "    total_sum += i\n",
    "\n",
    "print(f\"The sum of all numbers from 1 to {n} is: {total_sum}\")\n",
    "\n"
   ]
  },
  {
   "cell_type": "code",
   "execution_count": 41,
   "metadata": {},
   "outputs": [
    {
     "name": "stdout",
     "output_type": "stream",
     "text": [
      "The number of vowels in the entered text is: 8\n"
     ]
    }
   ],
   "source": [
    "# Foydalanuvchidan qiymat olish\n",
    "user_input = input(\"Enter text: \")\n",
    "\n",
    "# unlilarni aniqlash\n",
    "vowels = \"aeiouAEIOU\"\n",
    "\n",
    "# hisoblagichni o'rnatish\n",
    "vowel_count = 0\n",
    "\n",
    "# kiritilgan inputdan har bir harfni loop qilib chiqish\n",
    "for char in user_input:\n",
    "    if char in vowels:\n",
    "        vowel_count += 1\n",
    "\n",
    "print(f\"The number of vowels in the entered text is: {vowel_count}\")\n"
   ]
  },
  {
   "cell_type": "code",
   "execution_count": null,
   "metadata": {},
   "outputs": [],
   "source": []
  }
 ],
 "metadata": {
  "kernelspec": {
   "display_name": "Python 3",
   "language": "python",
   "name": "python3"
  },
  "language_info": {
   "codemirror_mode": {
    "name": "ipython",
    "version": 3
   },
   "file_extension": ".py",
   "mimetype": "text/x-python",
   "name": "python",
   "nbconvert_exporter": "python",
   "pygments_lexer": "ipython3",
   "version": "3.13.1"
  }
 },
 "nbformat": 4,
 "nbformat_minor": 2
}
